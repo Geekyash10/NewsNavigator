{
 "cells": [
  {
   "cell_type": "code",
   "execution_count": 72,
   "metadata": {
    "ExecuteTime": {
     "end_time": "2024-11-11T11:05:06.964814Z",
     "start_time": "2024-11-11T11:05:06.511176Z"
    },
    "id": "yLiFLwM6bMCa"
   },
   "outputs": [],
   "source": [
    "import pandas as pd\n",
    "import numpy as np\n",
    "import pandas as pd\n",
    "import numpy as np\n",
    "import matplotlib.pyplot as plt\n",
    "from bs4 import BeautifulSoup\n",
    "import regex\n",
    "from nltk import word_tokenize, sent_tokenize\n",
    "from sklearn.model_selection import train_test_split\n",
    "from sklearn.naive_bayes import MultinomialNB\n",
    "from sklearn.feature_extraction.text import CountVectorizer\n",
    "from sklearn.pipeline import make_pipeline\n",
    "from sklearn.metrics import accuracy_score, classification_report\n",
    "from sklearn.model_selection import cross_val_score, StratifiedKFold\n",
    "from sklearn.metrics import accuracy_score, precision_score, recall_score, f1_score, log_loss\n",
    "import seaborn as sns"
   ]
  },
  {
   "cell_type": "code",
   "execution_count": null,
   "metadata": {
    "ExecuteTime": {
     "end_time": "2024-11-11T11:05:10.976028Z",
     "start_time": "2024-11-11T11:05:10.972988Z"
    }
   },
   "outputs": [],
   "source": []
  },
  {
   "cell_type": "code",
   "execution_count": 2,
   "metadata": {
    "ExecuteTime": {
     "end_time": "2024-11-11T11:05:12.304935Z",
     "start_time": "2024-11-11T11:05:11.784119Z"
    },
    "colab": {
     "base_uri": "https://localhost:8080/"
    },
    "id": "M5InINdpbWCI",
    "outputId": "8282c550-dc24-445c-90a5-87b75055beae"
   },
   "outputs": [
    {
     "data": {
      "text/plain": [
       "(199706, 4)"
      ]
     },
     "execution_count": 2,
     "metadata": {},
     "output_type": "execute_result"
    }
   ],
   "source": [
    "df=pd.read_csv('./data.csv')\n",
    "df.shape"
   ]
  },
  {
   "cell_type": "code",
   "execution_count": 3,
   "metadata": {
    "ExecuteTime": {
     "end_time": "2024-11-11T11:05:12.795041Z",
     "start_time": "2024-11-11T11:05:12.789187Z"
    },
    "colab": {
     "base_uri": "https://localhost:8080/",
     "height": 206
    },
    "id": "PGkWUDhXbfjT",
    "outputId": "cc7d7944-8a17-4e96-c9ef-523e23f1780f"
   },
   "outputs": [
    {
     "data": {
      "text/html": [
       "<div>\n",
       "<style scoped>\n",
       "    .dataframe tbody tr th:only-of-type {\n",
       "        vertical-align: middle;\n",
       "    }\n",
       "\n",
       "    .dataframe tbody tr th {\n",
       "        vertical-align: top;\n",
       "    }\n",
       "\n",
       "    .dataframe thead th {\n",
       "        text-align: right;\n",
       "    }\n",
       "</style>\n",
       "<table border=\"1\" class=\"dataframe\">\n",
       "  <thead>\n",
       "    <tr style=\"text-align: right;\">\n",
       "      <th></th>\n",
       "      <th>Headline</th>\n",
       "      <th>Content</th>\n",
       "      <th>News Categories</th>\n",
       "      <th>Date</th>\n",
       "    </tr>\n",
       "  </thead>\n",
       "  <tbody>\n",
       "    <tr>\n",
       "      <th>0</th>\n",
       "      <td>Congress leader Baljinder Singh shot dead at h...</td>\n",
       "      <td>Congress leader Baljinder Singh was shot dead ...</td>\n",
       "      <td>['national']</td>\n",
       "      <td>19-09-2023</td>\n",
       "    </tr>\n",
       "    <tr>\n",
       "      <th>1</th>\n",
       "      <td>17-year-old girl preparing for NEET dies by su...</td>\n",
       "      <td>Another NEET aspirant died by suicide in Rajas...</td>\n",
       "      <td>['national']</td>\n",
       "      <td>19-09-2023</td>\n",
       "    </tr>\n",
       "    <tr>\n",
       "      <th>2</th>\n",
       "      <td>Hampers to welcome MPs in new Parliament tomor...</td>\n",
       "      <td>In order to mark the first-ever working day of...</td>\n",
       "      <td>['national']</td>\n",
       "      <td>19-09-2023</td>\n",
       "    </tr>\n",
       "    <tr>\n",
       "      <th>3</th>\n",
       "      <td>Only 10% women lawmakers in RS, while only 14%...</td>\n",
       "      <td>Congress President Mallikarjun Kharge, while s...</td>\n",
       "      <td>['national']</td>\n",
       "      <td>19-09-2023</td>\n",
       "    </tr>\n",
       "    <tr>\n",
       "      <th>4</th>\n",
       "      <td>Ganesh temple decorated with notes, coins wort...</td>\n",
       "      <td>The Sri Sathya Ganapathi Temple in Bengaluru a...</td>\n",
       "      <td>['national']</td>\n",
       "      <td>19-09-2023</td>\n",
       "    </tr>\n",
       "  </tbody>\n",
       "</table>\n",
       "</div>"
      ],
      "text/plain": [
       "                                            Headline  \\\n",
       "0  Congress leader Baljinder Singh shot dead at h...   \n",
       "1  17-year-old girl preparing for NEET dies by su...   \n",
       "2  Hampers to welcome MPs in new Parliament tomor...   \n",
       "3  Only 10% women lawmakers in RS, while only 14%...   \n",
       "4  Ganesh temple decorated with notes, coins wort...   \n",
       "\n",
       "                                             Content News Categories  \\\n",
       "0  Congress leader Baljinder Singh was shot dead ...    ['national']   \n",
       "1  Another NEET aspirant died by suicide in Rajas...    ['national']   \n",
       "2  In order to mark the first-ever working day of...    ['national']   \n",
       "3  Congress President Mallikarjun Kharge, while s...    ['national']   \n",
       "4  The Sri Sathya Ganapathi Temple in Bengaluru a...    ['national']   \n",
       "\n",
       "         Date  \n",
       "0  19-09-2023  \n",
       "1  19-09-2023  \n",
       "2  19-09-2023  \n",
       "3  19-09-2023  \n",
       "4  19-09-2023  "
      ]
     },
     "execution_count": 3,
     "metadata": {},
     "output_type": "execute_result"
    }
   ],
   "source": [
    "df.head()"
   ]
  },
  {
   "cell_type": "code",
   "execution_count": 4,
   "metadata": {
    "ExecuteTime": {
     "end_time": "2024-11-11T11:05:13.171565Z",
     "start_time": "2024-11-11T11:05:13.043134Z"
    },
    "id": "QM_AA5kZbhvy"
   },
   "outputs": [],
   "source": [
    "\n",
    "threshold = 5\n",
    "\n",
    "# Identify classes with fewer instances\n",
    "class_counts = df['News Categories'].value_counts()\n",
    "rare_classes = class_counts[class_counts < threshold].index\n",
    "\n",
    "# Group rare classes into a broader category 'Other'\n",
    "df['category_grouped'] = df['News Categories'].apply(lambda x: 'Other' if x in rare_classes else x)"
   ]
  },
  {
   "cell_type": "code",
   "execution_count": 5,
   "metadata": {
    "ExecuteTime": {
     "end_time": "2024-11-11T11:05:13.252339Z",
     "start_time": "2024-11-11T11:05:13.249127Z"
    },
    "colab": {
     "base_uri": "https://localhost:8080/",
     "height": 458
    },
    "id": "NsNmKZHUbj6M",
    "outputId": "66672b1c-0d26-45d9-de3f-65be1f7be0bc"
   },
   "outputs": [
    {
     "data": {
      "text/plain": [
       "0                            ['national']\n",
       "1                            ['national']\n",
       "2                            ['national']\n",
       "3                            ['national']\n",
       "4                            ['national']\n",
       "                       ...               \n",
       "199701    ['science', 'Health___Fitness']\n",
       "199702    ['science', 'Health___Fitness']\n",
       "199703               ['Health___Fitness']\n",
       "199704    ['science', 'Health___Fitness']\n",
       "199705               ['Health___Fitness']\n",
       "Name: News Categories, Length: 199706, dtype: object"
      ]
     },
     "execution_count": 5,
     "metadata": {},
     "output_type": "execute_result"
    }
   ],
   "source": [
    "df[\"News Categories\"]"
   ]
  },
  {
   "cell_type": "code",
   "execution_count": 6,
   "metadata": {
    "ExecuteTime": {
     "end_time": "2024-11-11T11:05:13.441124Z",
     "start_time": "2024-11-11T11:05:13.436754Z"
    },
    "colab": {
     "base_uri": "https://localhost:8080/",
     "height": 458
    },
    "id": "mmmyxpGObl_I",
    "outputId": "9bcab717-7922-4c91-b993-c5c93e31b816"
   },
   "outputs": [
    {
     "data": {
      "text/plain": [
       "0                            ['national']\n",
       "1                            ['national']\n",
       "2                            ['national']\n",
       "3                            ['national']\n",
       "4                            ['national']\n",
       "                       ...               \n",
       "199701    ['science', 'Health___Fitness']\n",
       "199702    ['science', 'Health___Fitness']\n",
       "199703               ['Health___Fitness']\n",
       "199704    ['science', 'Health___Fitness']\n",
       "199705               ['Health___Fitness']\n",
       "Name: category_grouped, Length: 199706, dtype: object"
      ]
     },
     "execution_count": 6,
     "metadata": {},
     "output_type": "execute_result"
    }
   ],
   "source": [
    "df['category_grouped']"
   ]
  },
  {
   "cell_type": "code",
   "execution_count": 7,
   "metadata": {
    "ExecuteTime": {
     "end_time": "2024-11-11T11:05:13.636939Z",
     "start_time": "2024-11-11T11:05:13.611677Z"
    },
    "colab": {
     "base_uri": "https://localhost:8080/"
    },
    "id": "Vz_8Wmm9bnw4",
    "outputId": "2624eafc-a74d-4e4a-f562-56cd0f0c0963"
   },
   "outputs": [
    {
     "name": "stdout",
     "output_type": "stream",
     "text": [
      "<class 'pandas.core.frame.DataFrame'>\n",
      "RangeIndex: 199706 entries, 0 to 199705\n",
      "Data columns (total 5 columns):\n",
      " #   Column            Non-Null Count   Dtype \n",
      "---  ------            --------------   ----- \n",
      " 0   Headline          199706 non-null  object\n",
      " 1   Content           199706 non-null  object\n",
      " 2   News Categories   199706 non-null  object\n",
      " 3   Date              199706 non-null  object\n",
      " 4   category_grouped  199706 non-null  object\n",
      "dtypes: object(5)\n",
      "memory usage: 7.6+ MB\n"
     ]
    }
   ],
   "source": [
    "df.info()"
   ]
  },
  {
   "cell_type": "code",
   "execution_count": 8,
   "metadata": {
    "ExecuteTime": {
     "end_time": "2024-11-11T11:05:13.829474Z",
     "start_time": "2024-11-11T11:05:13.806098Z"
    },
    "colab": {
     "base_uri": "https://localhost:8080/",
     "height": 241
    },
    "id": "pHR7tpI3bpah",
    "outputId": "bebb1e64-49c9-4d25-c2d9-30999a267b10"
   },
   "outputs": [
    {
     "data": {
      "text/plain": [
       "Headline            0\n",
       "Content             0\n",
       "News Categories     0\n",
       "Date                0\n",
       "category_grouped    0\n",
       "dtype: int64"
      ]
     },
     "execution_count": 8,
     "metadata": {},
     "output_type": "execute_result"
    }
   ],
   "source": [
    "df.isnull().sum()"
   ]
  },
  {
   "cell_type": "code",
   "execution_count": 9,
   "metadata": {
    "ExecuteTime": {
     "end_time": "2024-11-11T11:05:14.153125Z",
     "start_time": "2024-11-11T11:05:13.971081Z"
    },
    "colab": {
     "base_uri": "https://localhost:8080/"
    },
    "id": "oBACqRptbq4X",
    "outputId": "982ad636-4cd4-4055-cb59-24789087eae8"
   },
   "outputs": [
    {
     "data": {
      "text/plain": [
       "35452"
      ]
     },
     "execution_count": 9,
     "metadata": {},
     "output_type": "execute_result"
    }
   ],
   "source": [
    "df.duplicated().sum()"
   ]
  },
  {
   "cell_type": "code",
   "execution_count": 10,
   "metadata": {
    "ExecuteTime": {
     "end_time": "2024-11-11T11:05:14.187717Z",
     "start_time": "2024-11-11T11:05:14.185388Z"
    },
    "colab": {
     "base_uri": "https://localhost:8080/",
     "height": 241
    },
    "id": "6Wit_yuMbshj",
    "outputId": "604dba12-5301-4f7d-c895-ea781ff20615"
   },
   "outputs": [
    {
     "data": {
      "text/plain": [
       "0    19-09-2023\n",
       "1    19-09-2023\n",
       "2    19-09-2023\n",
       "3    19-09-2023\n",
       "4    19-09-2023\n",
       "Name: Date, dtype: object"
      ]
     },
     "execution_count": 10,
     "metadata": {},
     "output_type": "execute_result"
    }
   ],
   "source": [
    "df[\"Date\"].head()"
   ]
  },
  {
   "cell_type": "code",
   "execution_count": 11,
   "metadata": {
    "ExecuteTime": {
     "end_time": "2024-11-11T11:05:14.355218Z",
     "start_time": "2024-11-11T11:05:14.345076Z"
    },
    "colab": {
     "base_uri": "https://localhost:8080/",
     "height": 143
    },
    "id": "gGyT_2LkbtwL",
    "outputId": "79bb8ce7-e305-4a02-9e2d-ace797462b81"
   },
   "outputs": [
    {
     "data": {
      "text/plain": [
       "\"['national']['entertainment', 'national']['politics', 'national']['world', 'national']['national', 'technology']['business', 'national']['sports', 'national']['world', 'national', 'Health___Fitness']['national', 'Health___Fitness']['business', 'technology']['business']['business', 'startup']['automobile', 'business', 'technology']['business', 'fashion']['world', 'business']['world', 'business', 'technology']['automobile', 'business']['business', 'entertainment', 'national']['world', 'business', 'national']['business', 'science', 'technology']['cryptocurrency', 'business', 'technology']['automobile', 'business', 'national']['politics']['politics', 'sports', 'Asia_Cup_2023']['politics', 'entertainment']['sports']['sports', 'entertainment']['sports', 'Asia_Cup_2023']['Asia_Cup_2023', 'sports']['sports', 'Asia_Cup_2023', 'entertainment']['technology']['world', 'technology']['cryptocurrency', 'technology']['science', 'technology']['entertainment', 'technology']['sports', 'technology']['automobile', 'technology']['startup', 'technology']['business', 'national', 'technology']['Health___Fitness', 'technology']['business', 'startup', 'technology']['startup']['startup', 'science']['startup', 'national']['automobile', 'startup']['sports', 'startup']['entertainment']['world', 'entertainment']['entertainment', 'fashion']['world']['world', 'Russia-Ukraine_Conflict']['world', 'fashion']['world', 'Coronavirus', 'Health___Fitness']['world', 'science']['world', 'education']['education', 'world']['automobile']['automobile', 'national']['automobile', 'startup', 'technology']['automobile', 'business', 'startup']['automobile', 'world', 'business']['automobile', 'world', 'technology']['automobile', 'world', 'business', 'national']['science']['science', 'national']['science', 'Health___Fitness']['world', 'science', 'national']['world', 'science', 'Health___Fitness']['world', 'travel']['technology', 'travel']['travel']['national', 'travel']['business', 'national', 'travel']['world', 'business', 'travel']['world', 'national', 'travel']['business', 'travel']['world', 'entertainment', 'travel']['Coronavirus', 'national', 'travel']['miscellaneous', 'travel']['hatke', 'travel']['startup', 'national', 'travel']['sports', 'national', 'travel']['automobile', 'technology', 'travel']['world', 'Coronavirus', 'travel']['miscellaneous']['miscellaneous', 'national']['miscellaneous', 'Health___Fitness']['world', 'miscellaneous']['miscellaneous', 'sports']['fashion']['national', 'fashion']['startup', 'fashion']['hatke', 'fashion']['world', 'entertainment', 'fashion']['sports', 'fashion']['technology', 'fashion']['education', 'national']['education']['world', 'education', 'national']['politics', 'education', 'national']['education', 'startup', 'national']['education', 'business']['education', 'technology']['education', 'world', 'national']['education', 'startup']['education', 'business', 'technology']['Health___Fitness']['Health___Fitness', 'national']['world', 'Health___Fitness']['business', 'Health___Fitness', 'national']['science', 'Health___Fitness', 'technology']['Coronavirus', 'national', 'Health___Fitness']['world', 'Coronavirus', 'science', 'Health___Fitness']['entertainment', 'Health___Fitness']['business', 'Health___Fitness']['world', 'business', 'Health___Fitness']['sports', 'Health___Fitness']['business', 'national', 'Health___Fitness']['startup', 'Health___Fitness']['sports', 'business', 'national']['world', 'entertainment', 'national']['cryptocurrency', 'business']['politics', 'world']['sports', 'Asian_Games_2022']['world', 'Coronavirus']['business', 'entertainment', 'startup', 'national']['business', 'entertainment']['politics', 'entertainment', 'national']['world', 'national', 'Russia-Ukraine_Conflict']['sports', 'ODI_World_Cup_2023']['Coronavirus', 'Health___Fitness']['politics', 'business']['politics', 'sports']['sports', 'national', 'Asian_Games_2022']['politics', 'sports', 'national']['sports', 'technology', 'Asian_Games_2022']['business', 'sports', 'ODI_World_Cup_2023']['entertainment', 'startup', 'national']['business', 'science']['world', 'national', 'technology']['business', 'sports', 'technology']['ODI_World_Cup_2023', 'sports']['politics', 'world', 'national']['startup', 'technology', 'fashion']['world', 'sports', 'national']['world', 'entertainment', 'technology']['sports', 'ODI_World_Cup_2023', 'entertainment']['business', 'sports']['sports', 'business', 'ODI_World_Cup_2023']['automobile', 'sports']['business', 'startup', 'national']['sports', 'ODI_World_Cup_2023', 'Asian_Games_2022']['politics', 'technology']['politics', 'national', 'technology']['sports', 'ODI_World_Cup_2023', 'national']['world', 'education', 'business']['world', 'national', 'Israel-Hamas_War']['education', 'world', 'business']['politics', 'sports', 'Asian_Games_2022']['politics', 'sports', 'ODI_World_Cup_2023']['politics', 'world', 'national', 'Israel-Hamas_War']['world', 'technology', 'Israel-Hamas_War']['entertainment', 'startup']['world', 'entertainment', 'Israel-Hamas_War']['world', 'Israel-Hamas_War']['business', 'ODI_World_Cup_2023', 'startup']['business', 'Israel-Hamas_War']['education', 'world', 'business', 'Israel-Hamas_War']['world', 'business', 'technology', 'Israel-Hamas_War']['world', 'education', 'business', 'Israel-Hamas_War']['world', 'business', 'Israel-Hamas_War']['politics', 'Israel-Hamas_War']['ODI_World_Cup_2023', 'sports', 'startup']['ODI_World_Cup_2023', 'sports', 'entertainment']['entertainment', 'Israel-Hamas_War']['politics', 'business', 'national']['sports', 'ODI_World_Cup_2023', 'Israel-Hamas_War']['world', 'sports', 'ODI_World_Cup_2023', 'Israel-Hamas_War']['automobile', 'technology', 'Israel-Hamas_War']['sports', 'science']['technology', 'Israel-Hamas_War']['politics', 'miscellaneous']['world', 'sports', 'ODI_World_Cup_2023', 'national']['business', 'startup', 'technology', 'facts']['business', 'technology', 'Israel-Hamas_War']['world', 'Russia-Ukraine_Conflict', 'Israel-Hamas_War']['all', 'myfeed', 'education']['politics', 'world', 'Israel-Hamas_War']['metaverse', 'national']['business', 'entertainment', 'startup', 'technology']['startup', 'technology', 'policy']['ODI_World_Cup_2023', 'national']['metaverse', 'business', 'technology']['cryptocurrency', 'business', 'national', 'technology']['politics', 'national', 'facts']['business', 'entertainment', 'startup', 'technology', 'policy']['business', 'startup', 'science', 'technology']['business', 'startup', 'technology', 'fashion']['automobile', 'business', 'startup', 'technology']['business', 'entertainment', 'technology', 'policy']['all', 'myfeed', 'sports', 'Asian_Games_2022']['all', 'sports', 'Asian_Games_2022']['all', 'sports']['automobile', 'entertainment']['startup', 'national', 'policy']['politics', 'hatke', 'national']['hatke', 'business', 'fashion']['business', 'sports', 'startup', 'technology']['business', 'startup', 'technology', 'policy']['business', 'entertainment', 'technology']['politics', 'education']['all', 'myfeed', 'sports']['metaverse', 'education', 'technology']['miscellaneous', 'fashion']['education', 'business', 'startup']['world', 'sports']['all', 'myfeed', 'sports', 'national']['automobile', 'business', 'startup', 'technology', 'travel']['all', 'metaverse', 'sports']['politics', 'national', 'Israel-Hamas_War']['hatke', 'national', 'technology']['business', 'startup', 'Health___Fitness']['business', 'startup', 'Health___Fitness', 'technology']['education', 'science', 'national']['politics', 'business', 'startup', 'technology']['myfeed', 'sports', 'Asian_Games_2022']['entertainment', 'startup', 'technology', 'policy']['entertainment', 'startup', 'technology']['national', 'Hockey_World_Cup_2023']['world', 'business', 'startup', 'technology']['business', 'startup', 'science']['Feel_Good_Stories', 'startup']['Feel_Good_Stories', 'miscellaneous']['sports', 'ODI_World_Cup_2023', 'national', 'Hockey_World_Cup_2023']['sports', 'business']['ODI_World_Cup_2023', 'startup']['Feel_Good_Stories', 'Health___Fitness', 'travel']['Feel_Good_Stories', 'miscellaneous', 'travel']['education', 'business', 'startup', 'technology']['business', 'startup', 'national', 'technology']['entertainment', 'national', 'technology']['business', 'startup', 'fashion']['sports', 'business', 'startup', 'technology']['hatke', 'entertainment', 'technology']['Feel_Good_Stories', 'world', 'travel']['Feel_Good_Stories', 'travel']['business', 'entertainment', 'startup']['business', 'startup', 'technology', 'travel']['sports', 'entertainment', 'technology']['miscellaneous', 'technology']['world', 'business', 'entertainment']['politics', 'miscellaneous', 'national']['automobile', 'business', 'technology', 'travel']['politics', 'world', 'entertainment']['sports', 'facts']['hatke', 'technology']['miscellaneous', 'national', 'technology']['education', 'science', 'national', 'technology']['ODI_World_Cup_2023', 'sports', 'national']['education', 'business', 'travel']['world', 'business', 'fashion']['education', 'startup', 'technology']['world', 'miscellaneous', 'Israel-Hamas_War']['miscellaneous', 'science']['politics', 'education', 'national', 'Health___Fitness']['business', 'sports', 'national']['education', 'business', 'national']['ODI_World_Cup_2023', 'business', 'startup', 'technology']['ODI_World_Cup_2023', 'sports', 'technology']['startup', 'Israel-Hamas_War']['ODI_World_Cup_2023', 'entertainment']['Feel_Good_Stories', 'education', 'Health___Fitness']['world', 'miscellaneous', 'education']['startup', 'Health___Fitness', 'technology']['automobile', 'business', 'sports']['world', 'miscellaneous', 'technology', 'Israel-Hamas_War']['miscellaneous', 'world', 'technology']['business', 'startup', 'travel']['Feel_Good_Stories', 'hatke', 'travel']['world', 'sports', 'ODI_World_Cup_2023']['Feel_Good_Stories', 'national']['hatke', 'entertainment', 'national']['ODI_World_Cup_2023', 'sports', 'business']['politics', 'ODI_World_Cup_2023']['politics', 'ODI_World_Cup_2023', 'sports']['Feel_Good_Stories', 'sports']['Feel_Good_Stories', 'education', 'technology']['world', 'miscellaneous', 'science', 'national', 'technology']['startup', 'science', 'technology']['miscellaneous', 'national', 'technology', 'fashion']['world', 'miscellaneous', 'technology']['Feel_Good_Stories', 'miscellaneous', 'entertainment']['hatke', 'world', 'miscellaneous']['world', 'miscellaneous', 'ODI_World_Cup_2023', 'sports', 'national']['education', 'miscellaneous', 'science', 'Health___Fitness']['world', 'science', 'national', 'technology']['business', 'national', 'Health___Fitness', 'travel']['miscellaneous', 'entertainment']['miscellaneous', 'national', 'Health___Fitness']['miscellaneous', 'ODI_World_Cup_2023', 'sports', 'national']['world', 'miscellaneous', 'sports', 'ODI_World_Cup_2023']['miscellaneous', 'ODI_World_Cup_2023']['Feel_Good_Stories', 'fashion']['education', 'national', 'Health___Fitness']['Feel_Good_Stories', 'world']['hatke', 'miscellaneous', 'entertainment', 'national']['Feel_Good_Stories', 'Health___Fitness', 'national']['Feel_Good_Stories', 'entertainment', 'national']['hatke', 'world', 'national']['sports', 'business', 'technology']['miscellaneous', 'business', 'startup']['Feel_Good_Stories', 'business']['business', 'science', 'fashion']['politics', 'education', 'miscellaneous', 'world']['politics', 'miscellaneous', 'education', 'national']['politics', 'Health___Fitness']['politics', 'miscellaneous', 'Health___Fitness', 'national']['Feel_Good_Stories', 'sports', 'travel']['sports', 'ODI_World_Cup_2023', 'technology']['sports', 'entertainment', 'travel']['Feel_Good_Stories', 'sports', 'national']['world', 'science', 'technology']['Feel_Good_Stories', 'entertainment']['hatke', 'world']['national', 'technology', 'travel']['Feel_Good_Stories', 'national', 'travel']['hatke', 'miscellaneous', 'national']['entertainment', 'Health___Fitness', 'fashion']['hatke', 'education', 'fashion']['hatke', 'national', 'fashion']['Feel_Good_Stories', 'hatke', 'fashion']['hatke', 'miscellaneous']['science', 'national', 'technology']['Feel_Good_Stories', 'hatke', 'national']['hatke', 'national']['hatke', 'world', 'national', 'Health___Fitness']['world', 'miscellaneous', 'education', 'national']['national', 'Health___Fitness', 'technology']['automobile', 'Feel_Good_Stories', 'hatke', 'national']['education', 'miscellaneous', 'business', 'national']['politics', 'education', 'miscellaneous', 'world', 'national', 'Russia-Ukraine_Conflict', 'Israel-Hamas_War']['education', 'miscellaneous', 'national']['miscellaneous', 'education', 'national']['politics', 'hatke', 'education', 'national', 'travel']['politics', 'education', 'miscellaneous', 'national']['politics', 'hatke', 'education', 'national']['politics', 'world', 'education']['hatke', 'sports', 'national']['hatke', 'education', 'science', 'national', 'technology']['Feel_Good_Stories', 'hatke', 'world']['Feel_Good_Stories', 'hatke', 'education', 'world', 'science', 'Health___Fitness', 'national']['Feel_Good_Stories', 'education']['hatke', 'national', 'travel']['Feel_Good_Stories', 'world', 'national']['politics', 'startup']['Feel_Good_Stories', 'hatke', 'education', 'business', 'entertainment', 'national']['Feel_Good_Stories', 'hatke', 'entertainment']['Feel_Good_Stories', 'miscellaneous', 'fashion']['hatke', 'education', 'national', 'fashion']['Feel_Good_Stories', 'hatke', 'education', 'national']['Feel_Good_Stories', 'politics', 'hatke', 'education', 'miscellaneous', 'national']['Feel_Good_Stories', 'politics', 'hatke', 'education', 'miscellaneous', 'entertainment', 'national', 'travel']['Feel_Good_Stories', 'hatke', 'education', 'miscellaneous', 'entertainment', 'national', 'travel', 'fashion']['Feel_Good_Stories', 'hatke', 'education', 'miscellaneous', 'national', 'travel']['Feel_Good_Stories', 'sports', 'technology']['hatke', 'world', 'entertainment']['hatke', 'miscellaneous', 'world']['Feel_Good_Stories', 'hatke', 'miscellaneous', 'travel']['Feel_Good_Stories', 'hatke', 'miscellaneous']['Feel_Good_Stories', 'hatke', 'world', 'national']['world', 'miscellaneous', 'national']['politics', 'education', 'world', 'technology']['world', 'startup', 'science', 'technology']['Feel_Good_Stories', 'hatke', 'entertainment', 'national']['miscellaneous', 'world']['world', 'miscellaneous', 'science', 'national']['hatke', 'miscellaneous', 'travel']['world', 'business', 'national', 'technology']['politics', 'hatke', 'education', 'miscellaneous', 'national']['Feel_Good_Stories', 'politics', 'education', 'miscellaneous', 'national']['politics', 'world', 'education', 'national']['education', 'miscellaneous', 'world', 'national']['world', 'Health___Fitness', 'national']['Feel_Good_Stories', 'miscellaneous', 'national']['education', 'world', 'national', 'technology']['world', 'business', 'startup']['politics', 'hatke', 'miscellaneous']['miscellaneous', 'entertainment', 'fashion']['world', 'Israel-Hamas_War', 'fashion']['world', 'sports', 'entertainment']['politics', 'education', 'world', 'national']['politics', 'world', 'education', 'miscellaneous', 'business', 'entertainment', 'science', 'national', 'technology']['Feel_Good_Stories', 'sports', 'Health___Fitness', 'national', 'travel']['Feel_Good_Stories', 'education', 'travel']['education', 'business', 'national', 'technology']['hatke', 'Health___Fitness', 'national']['automobile', 'politics', 'national', 'technology']['politics', 'Health___Fitness', 'national']['politics', 'world', 'education', 'science', 'national', 'technology']['world', 'Health___Fitness', 'national', 'technology']['Feel_Good_Stories', 'business', 'national']['Feel_Good_Stories', 'business', 'travel']['Feel_Good_Stories', 'sports', 'entertainment']['hatke', 'miscellaneous', 'entertainment']['Feel_Good_Stories', 'hatke', 'national', 'travel']['Feel_Good_Stories', 'miscellaneous', 'business', 'Health___Fitness']['miscellaneous', 'business']['politics', 'national', 'Health___Fitness']['sports', 'Israel-Hamas_War']['miscellaneous', 'entertainment', 'travel']['Feel_Good_Stories', 'world', 'science']['Feel_Good_Stories', 'science']['Feel_Good_Stories', 'miscellaneous', 'Health___Fitness']['Feel_Good_Stories', 'Health___Fitness']['politics', 'Feel_Good_Stories', 'education', 'miscellaneous', 'national']['politics', 'education', 'miscellaneous', 'sports', 'business', 'entertainment', 'technology', 'automobile', 'Feel_Good_Stories', 'hatke', 'world', 'science', 'national']['politics', 'miscellaneous', 'science', 'national']['Feel_Good_Stories', 'hatke', 'world', 'miscellaneous', 'business', 'national']['Feel_Good_Stories', 'hatke', 'business', 'national']['politics', 'world', 'business', 'fashion']['politics', 'miscellaneous', 'entertainment']['politics', 'world', 'fashion']['hatke', 'world', 'technology']['world', 'miscellaneous', 'entertainment']['world', 'entertainment', 'Health___Fitness']['Feel_Good_Stories', 'miscellaneous', 'entertainment', 'travel']['Feel_Good_Stories', 'hatke', 'miscellaneous', 'entertainment']['world', 'miscellaneous', 'Health___Fitness']['world', 'education', 'science', 'Health___Fitness']['Feel_Good_Stories', 'politics', 'education', 'entertainment', 'national']['world', 'business', 'travel', 'fashion']['sports', 'science', 'Health___Fitness']['Feel_Good_Stories', 'education', 'entertainment', 'travel']['entertainment', 'science']['education', 'world', 'Israel-Hamas_War']['education', 'travel']['Coronavirus', 'national']['hatke', 'miscellaneous', 'entertainment', 'national', 'travel']['business', 'national', 'fashion']['hatke', 'education', 'national']['politics', 'national', 'travel']['hatke', 'entertainment', 'national', 'travel']['hatke', 'entertainment', 'Health___Fitness', 'national']['Feel_Good_Stories', 'world', 'miscellaneous']['Feel_Good_Stories', 'miscellaneous', 'world', 'science']['miscellaneous', 'world', 'science']['Feel_Good_Stories', 'hatke', 'world', 'fashion']['automobile', 'world']['education', 'miscellaneous', 'travel']['education', 'miscellaneous']['hatke', 'miscellaneous', 'Health___Fitness']['miscellaneous', 'world', 'Health___Fitness']['hatke', 'business']['world', 'startup', 'technology']['world', 'business', 'Health___Fitness', 'national']['world', 'science', 'national', 'Health___Fitness']['automobile', 'science', 'technology']['Health___Fitness', 'travel']['world', 'startup']['Feel_Good_Stories', 'world', 'miscellaneous', 'technology']['cryptocurrency', 'world']['cryptocurrency', 'world', 'Russia-Ukraine_Conflict']['entertainment', 'travel']['hatke', 'national', 'Health___Fitness']['world', 'sports', 'Israel-Hamas_War']['sports', 'business', 'Health___Fitness']['startup', 'travel']['Health___Fitness', 'fashion']['education', 'miscellaneous', 'business', 'startup']['hatke', 'sports']['world', 'miscellaneous', 'national', 'technology']['miscellaneous', 'education']['politics', 'world', 'business', 'Israel-Hamas_War']['sports', 'travel']['hatke', 'entertainment']['Feel_Good_Stories', 'hatke', 'national', 'Health___Fitness']['sports', 'entertainment', 'national']['startup', 'national', 'Health___Fitness']['politics', 'hatke']['Feel_Good_Stories', 'politics', 'education', 'business', 'startup', 'Lifestyle']['politics', 'world', 'entertainment', 'national']['Feel_Good_Stories', 'business', 'entertainment']['education', 'world', 'miscellaneous']['automobile', 'miscellaneous']['miscellaneous', 'Lifestyle']['science', 'Health___Fitness', 'Lifestyle']['world', 'business', 'Russia-Ukraine_Conflict']['Lifestyle', 'technology']['Feel_Good_Stories', 'business', 'startup']['world', 'science', 'Health___Fitness', 'national']['Lifestyle', 'Health___Fitness']['Health___Fitness', 'Lifestyle']['miscellaneous', 'startup']['world', 'education', 'miscellaneous']['Lifestyle', 'fashion']['Coronavirus', 'science', 'Health___Fitness']['Feel_Good_Stories', 'Lifestyle', 'national', 'travel']['Health___Fitness', 'Lifestyle', 'national']['national', 'Lifestyle']['miscellaneous', 'business', 'startup', 'national']['politics', 'miscellaneous', 'business', 'startup', 'national']['politics', 'world', 'sports']['politics', 'world', 'travel']['education', 'science', 'technology']['entertainment', 'Lifestyle']['Lifestyle', 'travel']['cryptocurrency', 'world', 'business']['automobile', 'business', 'Lifestyle']['world', 'Lifestyle', 'national']['business', 'Lifestyle']['sports', 'Australian_Open_2024']['world', 'education', 'entertainment', 'technology']['hatke', 'miscellaneous', 'national', 'technology']['education', 'miscellaneous', 'entertainment', 'science', 'national', 'technology']['startup', 'Lifestyle']['business', 'startup', 'Lifestyle']['world', 'Lifestyle', 'fashion']['hatke', 'science']['Feel_Good_Stories', 'hatke', 'world', 'travel']['hatke', 'miscellaneous', 'business', 'national']['miscellaneous', 'Lifestyle', 'Health___Fitness']['entertainment', 'Lifestyle', 'fashion']['education', 'Health___Fitness']['Health___Fitness', 'Lifestyle', 'technology']['hatke', 'miscellaneous', 'business']['miscellaneous', 'science', 'national', 'Health___Fitness']['politics', 'science', 'national']['Feel_Good_Stories', 'hatke', 'world', 'national', 'travel']['world', 'Lifestyle', 'Health___Fitness']['world', 'miscellaneous', 'business']['Union_Budget_2024', 'business']['miscellaneous', 'entertainment', 'Lifestyle']['hatke', 'world', 'Lifestyle']['politics', 'education', 'world']\""
      ]
     },
     "execution_count": 11,
     "metadata": {},
     "output_type": "execute_result"
    }
   ],
   "source": [
    "df[\"News Categories\"].unique().sum()"
   ]
  },
  {
   "cell_type": "code",
   "execution_count": 12,
   "metadata": {
    "ExecuteTime": {
     "end_time": "2024-11-11T11:05:14.587304Z",
     "start_time": "2024-11-11T11:05:14.469669Z"
    },
    "colab": {
     "base_uri": "https://localhost:8080/",
     "height": 661
    },
    "id": "_zim8_gsbvJl",
    "outputId": "c533c296-2c9c-432f-a03c-74715384fcb2"
   },
   "outputs": [
    {
     "data": {
      "image/png": "[encoded data removed]",
      "text/plain": [
       "<Figure size 640x480 with 1 Axes>"
      ]
     },
     "metadata": {},
     "output_type": "display_data"
    }
   ],
   "source": [
    "top_n = 5\n",
    "top_categories = df['News Categories'].value_counts().nlargest(top_n).index\n",
    "\n",
    "df_top = df[df['News Categories'].isin(top_categories)]\n",
    "\n",
    "sns.countplot(x='News Categories', data=df_top, palette='viridis')\n",
    "plt.title(f'Top {top_n} News Categories')\n",
    "plt.xlabel('Categories')\n",
    "plt.xticks(rotation=45)\n",
    "plt.ylabel('Count')\n",
    "plt.show();"
   ]
  },
  {
   "cell_type": "code",
   "execution_count": 13,
   "metadata": {
    "ExecuteTime": {
     "end_time": "2024-11-11T11:05:14.720048Z",
     "start_time": "2024-11-11T11:05:14.716646Z"
    },
    "id": "XInOrJYAbyA_"
   },
   "outputs": [],
   "source": [
    "import string\n",
    "string.punctuation\n",
    "punc=string.punctuation"
   ]
  },
  {
   "cell_type": "code",
   "execution_count": 14,
   "metadata": {
    "ExecuteTime": {
     "end_time": "2024-11-11T11:05:15.778362Z",
     "start_time": "2024-11-11T11:05:15.583014Z"
    },
    "colab": {
     "base_uri": "https://localhost:8080/",
     "height": 206
    },
    "id": "yy5AJ1l9b0pj",
    "outputId": "5f9800cd-d175-4e94-d8e0-0126a5629355"
   },
   "outputs": [
    {
     "data": {
      "text/html": [
       "<div>\n",
       "<style scoped>\n",
       "    .dataframe tbody tr th:only-of-type {\n",
       "        vertical-align: middle;\n",
       "    }\n",
       "\n",
       "    .dataframe tbody tr th {\n",
       "        vertical-align: top;\n",
       "    }\n",
       "\n",
       "    .dataframe thead th {\n",
       "        text-align: right;\n",
       "    }\n",
       "</style>\n",
       "<table border=\"1\" class=\"dataframe\">\n",
       "  <thead>\n",
       "    <tr style=\"text-align: right;\">\n",
       "      <th></th>\n",
       "      <th>Headline</th>\n",
       "      <th>Content</th>\n",
       "      <th>News Categories</th>\n",
       "      <th>Date</th>\n",
       "      <th>category_grouped</th>\n",
       "    </tr>\n",
       "  </thead>\n",
       "  <tbody>\n",
       "    <tr>\n",
       "      <th>0</th>\n",
       "      <td>Congress leader Baljinder Singh shot dead at h...</td>\n",
       "      <td>Congress leader Baljinder Singh was shot dead ...</td>\n",
       "      <td>national</td>\n",
       "      <td>19-09-2023</td>\n",
       "      <td>['national']</td>\n",
       "    </tr>\n",
       "    <tr>\n",
       "      <th>1</th>\n",
       "      <td>17-year-old girl preparing for NEET dies by su...</td>\n",
       "      <td>Another NEET aspirant died by suicide in Rajas...</td>\n",
       "      <td>national</td>\n",
       "      <td>19-09-2023</td>\n",
       "      <td>['national']</td>\n",
       "    </tr>\n",
       "    <tr>\n",
       "      <th>2</th>\n",
       "      <td>Hampers to welcome MPs in new Parliament tomor...</td>\n",
       "      <td>In order to mark the first-ever working day of...</td>\n",
       "      <td>national</td>\n",
       "      <td>19-09-2023</td>\n",
       "      <td>['national']</td>\n",
       "    </tr>\n",
       "    <tr>\n",
       "      <th>3</th>\n",
       "      <td>Only 10% women lawmakers in RS, while only 14%...</td>\n",
       "      <td>Congress President Mallikarjun Kharge, while s...</td>\n",
       "      <td>national</td>\n",
       "      <td>19-09-2023</td>\n",
       "      <td>['national']</td>\n",
       "    </tr>\n",
       "    <tr>\n",
       "      <th>4</th>\n",
       "      <td>Ganesh temple decorated with notes, coins wort...</td>\n",
       "      <td>The Sri Sathya Ganapathi Temple in Bengaluru a...</td>\n",
       "      <td>national</td>\n",
       "      <td>19-09-2023</td>\n",
       "      <td>['national']</td>\n",
       "    </tr>\n",
       "  </tbody>\n",
       "</table>\n",
       "</div>"
      ],
      "text/plain": [
       "                                            Headline  \\\n",
       "0  Congress leader Baljinder Singh shot dead at h...   \n",
       "1  17-year-old girl preparing for NEET dies by su...   \n",
       "2  Hampers to welcome MPs in new Parliament tomor...   \n",
       "3  Only 10% women lawmakers in RS, while only 14%...   \n",
       "4  Ganesh temple decorated with notes, coins wort...   \n",
       "\n",
       "                                             Content News Categories  \\\n",
       "0  Congress leader Baljinder Singh was shot dead ...        national   \n",
       "1  Another NEET aspirant died by suicide in Rajas...        national   \n",
       "2  In order to mark the first-ever working day of...        national   \n",
       "3  Congress President Mallikarjun Kharge, while s...        national   \n",
       "4  The Sri Sathya Ganapathi Temple in Bengaluru a...        national   \n",
       "\n",
       "         Date category_grouped  \n",
       "0  19-09-2023     ['national']  \n",
       "1  19-09-2023     ['national']  \n",
       "2  19-09-2023     ['national']  \n",
       "3  19-09-2023     ['national']  \n",
       "4  19-09-2023     ['national']  "
      ]
     },
     "execution_count": 14,
     "metadata": {},
     "output_type": "execute_result"
    }
   ],
   "source": [
    "def remove_punc(text):\n",
    "    return text.translate(str.maketrans('', '',punc))\n",
    "\n",
    "df[\"News Categories\"]=df[\"News Categories\"].apply(remove_punc)\n",
    "df.head()"
   ]
  },
  {
   "cell_type": "code",
   "execution_count": 15,
   "metadata": {
    "ExecuteTime": {
     "end_time": "2024-11-11T11:05:16.510773Z",
     "start_time": "2024-11-11T11:05:16.482922Z"
    },
    "colab": {
     "base_uri": "https://localhost:8080/",
     "height": 206
    },
    "id": "o8iwVFMob2PU",
    "outputId": "f1e992b9-19ca-455c-b5b1-0edf588e23aa"
   },
   "outputs": [
    {
     "data": {
      "text/html": [
       "<div>\n",
       "<style scoped>\n",
       "    .dataframe tbody tr th:only-of-type {\n",
       "        vertical-align: middle;\n",
       "    }\n",
       "\n",
       "    .dataframe tbody tr th {\n",
       "        vertical-align: top;\n",
       "    }\n",
       "\n",
       "    .dataframe thead th {\n",
       "        text-align: right;\n",
       "    }\n",
       "</style>\n",
       "<table border=\"1\" class=\"dataframe\">\n",
       "  <thead>\n",
       "    <tr style=\"text-align: right;\">\n",
       "      <th></th>\n",
       "      <th>Headline</th>\n",
       "      <th>Content</th>\n",
       "      <th>News Categories</th>\n",
       "      <th>Date</th>\n",
       "      <th>category_grouped</th>\n",
       "      <th>year</th>\n",
       "      <th>month</th>\n",
       "      <th>day</th>\n",
       "    </tr>\n",
       "  </thead>\n",
       "  <tbody>\n",
       "    <tr>\n",
       "      <th>0</th>\n",
       "      <td>Congress leader Baljinder Singh shot dead at h...</td>\n",
       "      <td>Congress leader Baljinder Singh was shot dead ...</td>\n",
       "      <td>national</td>\n",
       "      <td>2023-09-19</td>\n",
       "      <td>['national']</td>\n",
       "      <td>2023</td>\n",
       "      <td>9</td>\n",
       "      <td>19</td>\n",
       "    </tr>\n",
       "    <tr>\n",
       "      <th>1</th>\n",
       "      <td>17-year-old girl preparing for NEET dies by su...</td>\n",
       "      <td>Another NEET aspirant died by suicide in Rajas...</td>\n",
       "      <td>national</td>\n",
       "      <td>2023-09-19</td>\n",
       "      <td>['national']</td>\n",
       "      <td>2023</td>\n",
       "      <td>9</td>\n",
       "      <td>19</td>\n",
       "    </tr>\n",
       "    <tr>\n",
       "      <th>2</th>\n",
       "      <td>Hampers to welcome MPs in new Parliament tomor...</td>\n",
       "      <td>In order to mark the first-ever working day of...</td>\n",
       "      <td>national</td>\n",
       "      <td>2023-09-19</td>\n",
       "      <td>['national']</td>\n",
       "      <td>2023</td>\n",
       "      <td>9</td>\n",
       "      <td>19</td>\n",
       "    </tr>\n",
       "    <tr>\n",
       "      <th>3</th>\n",
       "      <td>Only 10% women lawmakers in RS, while only 14%...</td>\n",
       "      <td>Congress President Mallikarjun Kharge, while s...</td>\n",
       "      <td>national</td>\n",
       "      <td>2023-09-19</td>\n",
       "      <td>['national']</td>\n",
       "      <td>2023</td>\n",
       "      <td>9</td>\n",
       "      <td>19</td>\n",
       "    </tr>\n",
       "    <tr>\n",
       "      <th>4</th>\n",
       "      <td>Ganesh temple decorated with notes, coins wort...</td>\n",
       "      <td>The Sri Sathya Ganapathi Temple in Bengaluru a...</td>\n",
       "      <td>national</td>\n",
       "      <td>2023-09-19</td>\n",
       "      <td>['national']</td>\n",
       "      <td>2023</td>\n",
       "      <td>9</td>\n",
       "      <td>19</td>\n",
       "    </tr>\n",
       "  </tbody>\n",
       "</table>\n",
       "</div>"
      ],
      "text/plain": [
       "                                            Headline  \\\n",
       "0  Congress leader Baljinder Singh shot dead at h...   \n",
       "1  17-year-old girl preparing for NEET dies by su...   \n",
       "2  Hampers to welcome MPs in new Parliament tomor...   \n",
       "3  Only 10% women lawmakers in RS, while only 14%...   \n",
       "4  Ganesh temple decorated with notes, coins wort...   \n",
       "\n",
       "                                             Content News Categories  \\\n",
       "0  Congress leader Baljinder Singh was shot dead ...        national   \n",
       "1  Another NEET aspirant died by suicide in Rajas...        national   \n",
       "2  In order to mark the first-ever working day of...        national   \n",
       "3  Congress President Mallikarjun Kharge, while s...        national   \n",
       "4  The Sri Sathya Ganapathi Temple in Bengaluru a...        national   \n",
       "\n",
       "        Date category_grouped  year  month  day  \n",
       "0 2023-09-19     ['national']  2023      9   19  \n",
       "1 2023-09-19     ['national']  2023      9   19  \n",
       "2 2023-09-19     ['national']  2023      9   19  \n",
       "3 2023-09-19     ['national']  2023      9   19  \n",
       "4 2023-09-19     ['national']  2023      9   19  "
      ]
     },
     "execution_count": 15,
     "metadata": {},
     "output_type": "execute_result"
    }
   ],
   "source": [
    "df['Date'] = pd.to_datetime(df['Date'],format='mixed',dayfirst=True)\n",
    "\n",
    "df['year'] = df['Date'].dt.year\n",
    "df['month'] = df['Date'].dt.month\n",
    "df['day'] = df['Date'].dt.day\n",
    "\n",
    "df.head()"
   ]
  },
  {
   "cell_type": "code",
   "execution_count": 16,
   "metadata": {
    "ExecuteTime": {
     "end_time": "2024-11-11T11:05:16.948233Z",
     "start_time": "2024-11-11T11:05:16.938921Z"
    },
    "id": "HPexQK7-b4VA"
   },
   "outputs": [],
   "source": [
    "df=df.drop('Date',axis=1)"
   ]
  },
  {
   "cell_type": "code",
   "execution_count": 17,
   "metadata": {
    "ExecuteTime": {
     "end_time": "2024-11-11T11:05:17.511071Z",
     "start_time": "2024-11-11T11:05:17.506071Z"
    },
    "colab": {
     "base_uri": "https://localhost:8080/",
     "height": 206
    },
    "id": "cP8J854Ob5vg",
    "outputId": "e949b018-1485-4c3c-b639-bab66a5998b6"
   },
   "outputs": [
    {
     "data": {
      "text/html": [
       "<div>\n",
       "<style scoped>\n",
       "    .dataframe tbody tr th:only-of-type {\n",
       "        vertical-align: middle;\n",
       "    }\n",
       "\n",
       "    .dataframe tbody tr th {\n",
       "        vertical-align: top;\n",
       "    }\n",
       "\n",
       "    .dataframe thead th {\n",
       "        text-align: right;\n",
       "    }\n",
       "</style>\n",
       "<table border=\"1\" class=\"dataframe\">\n",
       "  <thead>\n",
       "    <tr style=\"text-align: right;\">\n",
       "      <th></th>\n",
       "      <th>Headline</th>\n",
       "      <th>Content</th>\n",
       "      <th>News Categories</th>\n",
       "      <th>category_grouped</th>\n",
       "      <th>year</th>\n",
       "      <th>month</th>\n",
       "      <th>day</th>\n",
       "    </tr>\n",
       "  </thead>\n",
       "  <tbody>\n",
       "    <tr>\n",
       "      <th>0</th>\n",
       "      <td>Congress leader Baljinder Singh shot dead at h...</td>\n",
       "      <td>Congress leader Baljinder Singh was shot dead ...</td>\n",
       "      <td>national</td>\n",
       "      <td>['national']</td>\n",
       "      <td>2023</td>\n",
       "      <td>9</td>\n",
       "      <td>19</td>\n",
       "    </tr>\n",
       "    <tr>\n",
       "      <th>1</th>\n",
       "      <td>17-year-old girl preparing for NEET dies by su...</td>\n",
       "      <td>Another NEET aspirant died by suicide in Rajas...</td>\n",
       "      <td>national</td>\n",
       "      <td>['national']</td>\n",
       "      <td>2023</td>\n",
       "      <td>9</td>\n",
       "      <td>19</td>\n",
       "    </tr>\n",
       "    <tr>\n",
       "      <th>2</th>\n",
       "      <td>Hampers to welcome MPs in new Parliament tomor...</td>\n",
       "      <td>In order to mark the first-ever working day of...</td>\n",
       "      <td>national</td>\n",
       "      <td>['national']</td>\n",
       "      <td>2023</td>\n",
       "      <td>9</td>\n",
       "      <td>19</td>\n",
       "    </tr>\n",
       "    <tr>\n",
       "      <th>3</th>\n",
       "      <td>Only 10% women lawmakers in RS, while only 14%...</td>\n",
       "      <td>Congress President Mallikarjun Kharge, while s...</td>\n",
       "      <td>national</td>\n",
       "      <td>['national']</td>\n",
       "      <td>2023</td>\n",
       "      <td>9</td>\n",
       "      <td>19</td>\n",
       "    </tr>\n",
       "    <tr>\n",
       "      <th>4</th>\n",
       "      <td>Ganesh temple decorated with notes, coins wort...</td>\n",
       "      <td>The Sri Sathya Ganapathi Temple in Bengaluru a...</td>\n",
       "      <td>national</td>\n",
       "      <td>['national']</td>\n",
       "      <td>2023</td>\n",
       "      <td>9</td>\n",
       "      <td>19</td>\n",
       "    </tr>\n",
       "  </tbody>\n",
       "</table>\n",
       "</div>"
      ],
      "text/plain": [
       "                                            Headline  \\\n",
       "0  Congress leader Baljinder Singh shot dead at h...   \n",
       "1  17-year-old girl preparing for NEET dies by su...   \n",
       "2  Hampers to welcome MPs in new Parliament tomor...   \n",
       "3  Only 10% women lawmakers in RS, while only 14%...   \n",
       "4  Ganesh temple decorated with notes, coins wort...   \n",
       "\n",
       "                                             Content News Categories  \\\n",
       "0  Congress leader Baljinder Singh was shot dead ...        national   \n",
       "1  Another NEET aspirant died by suicide in Rajas...        national   \n",
       "2  In order to mark the first-ever working day of...        national   \n",
       "3  Congress President Mallikarjun Kharge, while s...        national   \n",
       "4  The Sri Sathya Ganapathi Temple in Bengaluru a...        national   \n",
       "\n",
       "  category_grouped  year  month  day  \n",
       "0     ['national']  2023      9   19  \n",
       "1     ['national']  2023      9   19  \n",
       "2     ['national']  2023      9   19  \n",
       "3     ['national']  2023      9   19  \n",
       "4     ['national']  2023      9   19  "
      ]
     },
     "execution_count": 17,
     "metadata": {},
     "output_type": "execute_result"
    }
   ],
   "source": [
    "df.head()"
   ]
  },
  {
   "cell_type": "code",
   "execution_count": 18,
   "metadata": {
    "ExecuteTime": {
     "end_time": "2024-11-11T11:05:18.442288Z",
     "start_time": "2024-11-11T11:05:18.355029Z"
    },
    "colab": {
     "base_uri": "https://localhost:8080/",
     "height": 206
    },
    "id": "R9-7phhkb7A9",
    "outputId": "9a8c2a2e-fda6-46e7-b9c7-31bf36f6d5a2"
   },
   "outputs": [
    {
     "data": {
      "text/html": [
       "<div>\n",
       "<style scoped>\n",
       "    .dataframe tbody tr th:only-of-type {\n",
       "        vertical-align: middle;\n",
       "    }\n",
       "\n",
       "    .dataframe tbody tr th {\n",
       "        vertical-align: top;\n",
       "    }\n",
       "\n",
       "    .dataframe thead th {\n",
       "        text-align: right;\n",
       "    }\n",
       "</style>\n",
       "<table border=\"1\" class=\"dataframe\">\n",
       "  <thead>\n",
       "    <tr style=\"text-align: right;\">\n",
       "      <th></th>\n",
       "      <th>Headline</th>\n",
       "      <th>Content</th>\n",
       "      <th>News Categories</th>\n",
       "      <th>category_grouped</th>\n",
       "      <th>year</th>\n",
       "      <th>month</th>\n",
       "      <th>day</th>\n",
       "    </tr>\n",
       "  </thead>\n",
       "  <tbody>\n",
       "    <tr>\n",
       "      <th>0</th>\n",
       "      <td>Congress leader Baljinder Singh shot dead at h...</td>\n",
       "      <td>congress leader baljinder singh was shot dead ...</td>\n",
       "      <td>national</td>\n",
       "      <td>['national']</td>\n",
       "      <td>2023</td>\n",
       "      <td>9</td>\n",
       "      <td>19</td>\n",
       "    </tr>\n",
       "    <tr>\n",
       "      <th>1</th>\n",
       "      <td>17-year-old girl preparing for NEET dies by su...</td>\n",
       "      <td>another neet aspirant died by suicide in rajas...</td>\n",
       "      <td>national</td>\n",
       "      <td>['national']</td>\n",
       "      <td>2023</td>\n",
       "      <td>9</td>\n",
       "      <td>19</td>\n",
       "    </tr>\n",
       "    <tr>\n",
       "      <th>2</th>\n",
       "      <td>Hampers to welcome MPs in new Parliament tomor...</td>\n",
       "      <td>in order to mark the first-ever working day of...</td>\n",
       "      <td>national</td>\n",
       "      <td>['national']</td>\n",
       "      <td>2023</td>\n",
       "      <td>9</td>\n",
       "      <td>19</td>\n",
       "    </tr>\n",
       "    <tr>\n",
       "      <th>3</th>\n",
       "      <td>Only 10% women lawmakers in RS, while only 14%...</td>\n",
       "      <td>congress president mallikarjun kharge, while s...</td>\n",
       "      <td>national</td>\n",
       "      <td>['national']</td>\n",
       "      <td>2023</td>\n",
       "      <td>9</td>\n",
       "      <td>19</td>\n",
       "    </tr>\n",
       "    <tr>\n",
       "      <th>4</th>\n",
       "      <td>Ganesh temple decorated with notes, coins wort...</td>\n",
       "      <td>the sri sathya ganapathi temple in bengaluru a...</td>\n",
       "      <td>national</td>\n",
       "      <td>['national']</td>\n",
       "      <td>2023</td>\n",
       "      <td>9</td>\n",
       "      <td>19</td>\n",
       "    </tr>\n",
       "  </tbody>\n",
       "</table>\n",
       "</div>"
      ],
      "text/plain": [
       "                                            Headline  \\\n",
       "0  Congress leader Baljinder Singh shot dead at h...   \n",
       "1  17-year-old girl preparing for NEET dies by su...   \n",
       "2  Hampers to welcome MPs in new Parliament tomor...   \n",
       "3  Only 10% women lawmakers in RS, while only 14%...   \n",
       "4  Ganesh temple decorated with notes, coins wort...   \n",
       "\n",
       "                                             Content News Categories  \\\n",
       "0  congress leader baljinder singh was shot dead ...        national   \n",
       "1  another neet aspirant died by suicide in rajas...        national   \n",
       "2  in order to mark the first-ever working day of...        national   \n",
       "3  congress president mallikarjun kharge, while s...        national   \n",
       "4  the sri sathya ganapathi temple in bengaluru a...        national   \n",
       "\n",
       "  category_grouped  year  month  day  \n",
       "0     ['national']  2023      9   19  \n",
       "1     ['national']  2023      9   19  \n",
       "2     ['national']  2023      9   19  \n",
       "3     ['national']  2023      9   19  \n",
       "4     ['national']  2023      9   19  "
      ]
     },
     "execution_count": 18,
     "metadata": {},
     "output_type": "execute_result"
    }
   ],
   "source": [
    "df[\"Content\"]=df[\"Content\"].str.lower()\n",
    "df.head()"
   ]
  },
  {
   "cell_type": "code",
   "execution_count": 19,
   "metadata": {
    "ExecuteTime": {
     "end_time": "2024-11-11T11:05:19.530637Z",
     "start_time": "2024-11-11T11:05:19.528128Z"
    },
    "id": "h15wMStgb8fu"
   },
   "outputs": [],
   "source": [
    "# !pip install beautifulsoup4"
   ]
  },
  {
   "cell_type": "code",
   "execution_count": 20,
   "metadata": {
    "ExecuteTime": {
     "end_time": "2024-11-11T11:05:22.411342Z",
     "start_time": "2024-11-11T11:05:20.052416Z"
    },
    "id": "xtZl5gUdb_Y6"
   },
   "outputs": [],
   "source": [
    "def has_html_tags(text):\n",
    "    soup = BeautifulSoup(text, 'html.parser')\n",
    "    return bool(soup.find())\n",
    "\n",
    "df['has_html_tags'] = df['Content'].apply(has_html_tags)"
   ]
  },
  {
   "cell_type": "code",
   "execution_count": 21,
   "metadata": {
    "ExecuteTime": {
     "end_time": "2024-11-11T11:05:22.627778Z",
     "start_time": "2024-11-11T11:05:22.623289Z"
    },
    "colab": {
     "base_uri": "https://localhost:8080/"
    },
    "id": "fNHOeiJxcEeZ",
    "outputId": "a3e0bfc9-2a5c-4f88-b766-950c63696f90"
   },
   "outputs": [
    {
     "data": {
      "text/plain": [
       "0"
      ]
     },
     "execution_count": 21,
     "metadata": {},
     "output_type": "execute_result"
    }
   ],
   "source": [
    "count_true = df['has_html_tags'].sum()\n",
    "count_true"
   ]
  },
  {
   "cell_type": "code",
   "execution_count": 22,
   "metadata": {
    "ExecuteTime": {
     "end_time": "2024-11-11T11:05:22.978192Z",
     "start_time": "2024-11-11T11:05:22.962580Z"
    },
    "colab": {
     "base_uri": "https://localhost:8080/",
     "height": 424
    },
    "id": "BmkoMm9ncHsW",
    "outputId": "aed2e86a-34a7-439f-e852-ba936fdc106e"
   },
   "outputs": [
    {
     "data": {
      "text/html": [
       "<div>\n",
       "<style scoped>\n",
       "    .dataframe tbody tr th:only-of-type {\n",
       "        vertical-align: middle;\n",
       "    }\n",
       "\n",
       "    .dataframe tbody tr th {\n",
       "        vertical-align: top;\n",
       "    }\n",
       "\n",
       "    .dataframe thead th {\n",
       "        text-align: right;\n",
       "    }\n",
       "</style>\n",
       "<table border=\"1\" class=\"dataframe\">\n",
       "  <thead>\n",
       "    <tr style=\"text-align: right;\">\n",
       "      <th></th>\n",
       "      <th>Headline</th>\n",
       "      <th>Content</th>\n",
       "      <th>News Categories</th>\n",
       "      <th>category_grouped</th>\n",
       "      <th>year</th>\n",
       "      <th>month</th>\n",
       "      <th>day</th>\n",
       "    </tr>\n",
       "  </thead>\n",
       "  <tbody>\n",
       "    <tr>\n",
       "      <th>0</th>\n",
       "      <td>Congress leader Baljinder Singh shot dead at h...</td>\n",
       "      <td>congress leader baljinder singh was shot dead ...</td>\n",
       "      <td>national</td>\n",
       "      <td>['national']</td>\n",
       "      <td>2023</td>\n",
       "      <td>9</td>\n",
       "      <td>19</td>\n",
       "    </tr>\n",
       "    <tr>\n",
       "      <th>1</th>\n",
       "      <td>17-year-old girl preparing for NEET dies by su...</td>\n",
       "      <td>another neet aspirant died by suicide in rajas...</td>\n",
       "      <td>national</td>\n",
       "      <td>['national']</td>\n",
       "      <td>2023</td>\n",
       "      <td>9</td>\n",
       "      <td>19</td>\n",
       "    </tr>\n",
       "    <tr>\n",
       "      <th>2</th>\n",
       "      <td>Hampers to welcome MPs in new Parliament tomor...</td>\n",
       "      <td>in order to mark the first-ever working day of...</td>\n",
       "      <td>national</td>\n",
       "      <td>['national']</td>\n",
       "      <td>2023</td>\n",
       "      <td>9</td>\n",
       "      <td>19</td>\n",
       "    </tr>\n",
       "    <tr>\n",
       "      <th>3</th>\n",
       "      <td>Only 10% women lawmakers in RS, while only 14%...</td>\n",
       "      <td>congress president mallikarjun kharge, while s...</td>\n",
       "      <td>national</td>\n",
       "      <td>['national']</td>\n",
       "      <td>2023</td>\n",
       "      <td>9</td>\n",
       "      <td>19</td>\n",
       "    </tr>\n",
       "    <tr>\n",
       "      <th>4</th>\n",
       "      <td>Ganesh temple decorated with notes, coins wort...</td>\n",
       "      <td>the sri sathya ganapathi temple in bengaluru a...</td>\n",
       "      <td>national</td>\n",
       "      <td>['national']</td>\n",
       "      <td>2023</td>\n",
       "      <td>9</td>\n",
       "      <td>19</td>\n",
       "    </tr>\n",
       "    <tr>\n",
       "      <th>...</th>\n",
       "      <td>...</td>\n",
       "      <td>...</td>\n",
       "      <td>...</td>\n",
       "      <td>...</td>\n",
       "      <td>...</td>\n",
       "      <td>...</td>\n",
       "      <td>...</td>\n",
       "    </tr>\n",
       "    <tr>\n",
       "      <th>199701</th>\n",
       "      <td>Cause for age related diabetes can be pancreat...</td>\n",
       "      <td>the pancreas is an incredibly important organ,...</td>\n",
       "      <td>science HealthFitness</td>\n",
       "      <td>['science', 'Health___Fitness']</td>\n",
       "      <td>2024</td>\n",
       "      <td>1</td>\n",
       "      <td>20</td>\n",
       "    </tr>\n",
       "    <tr>\n",
       "      <th>199702</th>\n",
       "      <td>Study unveils Why sugary drinks may be bad for...</td>\n",
       "      <td>a recent study published in oral diseases has...</td>\n",
       "      <td>science HealthFitness</td>\n",
       "      <td>['science', 'Health___Fitness']</td>\n",
       "      <td>2024</td>\n",
       "      <td>1</td>\n",
       "      <td>20</td>\n",
       "    </tr>\n",
       "    <tr>\n",
       "      <th>199703</th>\n",
       "      <td>Why do Hospital-acquired infections happen? Ex...</td>\n",
       "      <td>hospital-acquired infections (hais) refer to i...</td>\n",
       "      <td>HealthFitness</td>\n",
       "      <td>['Health___Fitness']</td>\n",
       "      <td>2024</td>\n",
       "      <td>1</td>\n",
       "      <td>20</td>\n",
       "    </tr>\n",
       "    <tr>\n",
       "      <th>199704</th>\n",
       "      <td>Oxford launches first human vaccine trials for...</td>\n",
       "      <td>scientists at the university of oxford in the ...</td>\n",
       "      <td>science HealthFitness</td>\n",
       "      <td>['science', 'Health___Fitness']</td>\n",
       "      <td>2024</td>\n",
       "      <td>1</td>\n",
       "      <td>20</td>\n",
       "    </tr>\n",
       "    <tr>\n",
       "      <th>199705</th>\n",
       "      <td>This King Of Spices Can Instantly Control High...</td>\n",
       "      <td>high blood pressure happens when the force of ...</td>\n",
       "      <td>HealthFitness</td>\n",
       "      <td>['Health___Fitness']</td>\n",
       "      <td>2024</td>\n",
       "      <td>1</td>\n",
       "      <td>20</td>\n",
       "    </tr>\n",
       "  </tbody>\n",
       "</table>\n",
       "<p>199706 rows × 7 columns</p>\n",
       "</div>"
      ],
      "text/plain": [
       "                                                 Headline  \\\n",
       "0       Congress leader Baljinder Singh shot dead at h...   \n",
       "1       17-year-old girl preparing for NEET dies by su...   \n",
       "2       Hampers to welcome MPs in new Parliament tomor...   \n",
       "3       Only 10% women lawmakers in RS, while only 14%...   \n",
       "4       Ganesh temple decorated with notes, coins wort...   \n",
       "...                                                   ...   \n",
       "199701  Cause for age related diabetes can be pancreat...   \n",
       "199702  Study unveils Why sugary drinks may be bad for...   \n",
       "199703  Why do Hospital-acquired infections happen? Ex...   \n",
       "199704  Oxford launches first human vaccine trials for...   \n",
       "199705  This King Of Spices Can Instantly Control High...   \n",
       "\n",
       "                                                  Content  \\\n",
       "0       congress leader baljinder singh was shot dead ...   \n",
       "1       another neet aspirant died by suicide in rajas...   \n",
       "2       in order to mark the first-ever working day of...   \n",
       "3       congress president mallikarjun kharge, while s...   \n",
       "4       the sri sathya ganapathi temple in bengaluru a...   \n",
       "...                                                   ...   \n",
       "199701  the pancreas is an incredibly important organ,...   \n",
       "199702   a recent study published in oral diseases has...   \n",
       "199703  hospital-acquired infections (hais) refer to i...   \n",
       "199704  scientists at the university of oxford in the ...   \n",
       "199705  high blood pressure happens when the force of ...   \n",
       "\n",
       "              News Categories                 category_grouped  year  month  \\\n",
       "0                    national                     ['national']  2023      9   \n",
       "1                    national                     ['national']  2023      9   \n",
       "2                    national                     ['national']  2023      9   \n",
       "3                    national                     ['national']  2023      9   \n",
       "4                    national                     ['national']  2023      9   \n",
       "...                       ...                              ...   ...    ...   \n",
       "199701  science HealthFitness  ['science', 'Health___Fitness']  2024      1   \n",
       "199702  science HealthFitness  ['science', 'Health___Fitness']  2024      1   \n",
       "199703          HealthFitness             ['Health___Fitness']  2024      1   \n",
       "199704  science HealthFitness  ['science', 'Health___Fitness']  2024      1   \n",
       "199705          HealthFitness             ['Health___Fitness']  2024      1   \n",
       "\n",
       "        day  \n",
       "0        19  \n",
       "1        19  \n",
       "2        19  \n",
       "3        19  \n",
       "4        19  \n",
       "...     ...  \n",
       "199701   20  \n",
       "199702   20  \n",
       "199703   20  \n",
       "199704   20  \n",
       "199705   20  \n",
       "\n",
       "[199706 rows x 7 columns]"
      ]
     },
     "execution_count": 22,
     "metadata": {},
     "output_type": "execute_result"
    }
   ],
   "source": [
    "df = df.drop('has_html_tags', axis=1)\n",
    "df"
   ]
  },
  {
   "cell_type": "code",
   "execution_count": 23,
   "metadata": {
    "ExecuteTime": {
     "end_time": "2024-11-11T11:05:23.248005Z",
     "start_time": "2024-11-11T11:05:23.246247Z"
    },
    "id": "1ncWdq4UcJh_"
   },
   "outputs": [],
   "source": [
    "# !pip install emoji\n",
    "# !pip install --upgrade emoji\n",
    "# !pip install regex"
   ]
  },
  {
   "cell_type": "code",
   "execution_count": 24,
   "metadata": {
    "ExecuteTime": {
     "end_time": "2024-11-11T11:05:24.007837Z",
     "start_time": "2024-11-11T11:05:23.525668Z"
    },
    "colab": {
     "base_uri": "https://localhost:8080/",
     "height": 458
    },
    "id": "-AbXlGyOcL_M",
    "outputId": "04d94a54-c3ee-424f-c5b6-ceac545de326"
   },
   "outputs": [
    {
     "data": {
      "text/plain": [
       "0         False\n",
       "1          True\n",
       "2         False\n",
       "3          True\n",
       "4          True\n",
       "          ...  \n",
       "199701    False\n",
       "199702    False\n",
       "199703    False\n",
       "199704     True\n",
       "199705    False\n",
       "Name: Content, Length: 199706, dtype: bool"
      ]
     },
     "execution_count": 24,
     "metadata": {},
     "output_type": "execute_result"
    }
   ],
   "source": [
    "\n",
    "def has_emoji(text):\n",
    "    emoji_pattern = regex.compile(r'\\p{Emoji}', flags=regex.UNICODE)\n",
    "    return bool(emoji_pattern.search(text))\n",
    "\n",
    "\n",
    "has_emojis =  df['Content'].apply(has_emoji)\n",
    "\n",
    "has_emojis"
   ]
  },
  {
   "cell_type": "code",
   "execution_count": 25,
   "metadata": {
    "ExecuteTime": {
     "end_time": "2024-11-11T11:05:24.011966Z",
     "start_time": "2024-11-11T11:05:24.008738Z"
    },
    "colab": {
     "base_uri": "https://localhost:8080/"
    },
    "id": "GoWnbGlxcX1e",
    "outputId": "91d585e6-d2e9-4b73-bb02-df68a1569b48"
   },
   "outputs": [
    {
     "data": {
      "text/plain": [
       "127178"
      ]
     },
     "execution_count": 25,
     "metadata": {},
     "output_type": "execute_result"
    }
   ],
   "source": [
    "has_emojis.sum()"
   ]
  },
  {
   "cell_type": "code",
   "execution_count": 26,
   "metadata": {
    "ExecuteTime": {
     "end_time": "2024-11-11T11:05:24.831633Z",
     "start_time": "2024-11-11T11:05:24.076689Z"
    },
    "id": "q8lW8XNZcaPz"
   },
   "outputs": [],
   "source": [
    "def remove_emojis(text):\n",
    "    emoji_pattern = regex.compile(r'\\p{Emoji}', flags=regex.UNICODE)\n",
    "    return emoji_pattern.sub('', text)\n",
    "\n",
    "df['Content'] = df['Content'].apply(remove_emojis)"
   ]
  },
  {
   "cell_type": "code",
   "execution_count": 27,
   "metadata": {
    "ExecuteTime": {
     "end_time": "2024-11-11T11:05:25.431377Z",
     "start_time": "2024-11-11T11:05:24.875404Z"
    },
    "colab": {
     "base_uri": "https://localhost:8080/",
     "height": 458
    },
    "id": "Dc1dkrwycbub",
    "outputId": "0810a07f-f176-4603-b2da-b5fb14e065de"
   },
   "outputs": [
    {
     "data": {
      "text/plain": [
       "0         False\n",
       "1         False\n",
       "2         False\n",
       "3         False\n",
       "4         False\n",
       "          ...  \n",
       "199701    False\n",
       "199702    False\n",
       "199703    False\n",
       "199704    False\n",
       "199705    False\n",
       "Name: Content, Length: 199706, dtype: bool"
      ]
     },
     "execution_count": 27,
     "metadata": {},
     "output_type": "execute_result"
    }
   ],
   "source": [
    "has_emojis =  df['Content'].apply(has_emoji)\n",
    "has_emojis"
   ]
  },
  {
   "cell_type": "code",
   "execution_count": 28,
   "metadata": {
    "ExecuteTime": {
     "end_time": "2024-11-11T11:05:25.434893Z",
     "start_time": "2024-11-11T11:05:25.432540Z"
    },
    "colab": {
     "base_uri": "https://localhost:8080/"
    },
    "id": "lKUXUf2RcdDh",
    "outputId": "8d846117-71e9-45da-d15a-6bbc29108c69"
   },
   "outputs": [
    {
     "data": {
      "text/plain": [
       "0"
      ]
     },
     "execution_count": 28,
     "metadata": {},
     "output_type": "execute_result"
    }
   ],
   "source": [
    "has_emojis.sum()"
   ]
  },
  {
   "cell_type": "code",
   "execution_count": 29,
   "metadata": {
    "ExecuteTime": {
     "end_time": "2024-11-11T11:05:26.466414Z",
     "start_time": "2024-11-11T11:05:25.997800Z"
    },
    "id": "wShgP-DzcesI"
   },
   "outputs": [],
   "source": [
    "import re\n",
    "def remove_url(text):\n",
    "    pattern=re.compile(r'https?://\\S+|www\\.S+')\n",
    "    return pattern.sub(r'',text)\n",
    "df[\"Content\"]=df[\"Content\"].apply(remove_url)"
   ]
  },
  {
   "cell_type": "code",
   "execution_count": 30,
   "metadata": {
    "ExecuteTime": {
     "end_time": "2024-11-11T11:05:26.682078Z",
     "start_time": "2024-11-11T11:05:26.679701Z"
    },
    "id": "sEYQnkcTcgBv"
   },
   "outputs": [],
   "source": [
    "import string\n",
    "string.punctuation\n",
    "\n",
    "punc=string.punctuation"
   ]
  },
  {
   "cell_type": "code",
   "execution_count": 31,
   "metadata": {
    "ExecuteTime": {
     "end_time": "2024-11-12T09:51:15.588779Z",
     "start_time": "2024-11-12T09:51:13.858609Z"
    },
    "id": "lSB1nW8xcjsb"
   },
   "outputs": [],
   "source": [
    "def remove_punc(text):\n",
    "    return text.translate(str.maketrans('', '',punc))\n",
    "df[\"Content\"]=df[\"Content\"].apply(remove_punc)"
   ]
  },
  {
   "cell_type": "code",
   "execution_count": 32,
   "metadata": {
    "ExecuteTime": {
     "end_time": "2024-11-11T11:05:28.163717Z",
     "start_time": "2024-11-11T11:05:28.071199Z"
    },
    "colab": {
     "base_uri": "https://localhost:8080/"
    },
    "id": "9lvChaXIclJW",
    "outputId": "481bfa28-54e7-4d7b-b63b-826b3f2a6913"
   },
   "outputs": [
    {
     "name": "stderr",
     "output_type": "stream",
     "text": [
      "[nltk_data] Downloading package stopwords to\n",
      "[nltk_data]     /Users/yashagarwal/nltk_data...\n",
      "[nltk_data]   Package stopwords is already up-to-date!\n"
     ]
    },
    {
     "data": {
      "text/plain": [
       "True"
      ]
     },
     "execution_count": 32,
     "metadata": {},
     "output_type": "execute_result"
    }
   ],
   "source": [
    "from nltk.corpus import stopwords\n",
    "import nltk\n",
    "nltk.download('stopwords')"
   ]
  },
  {
   "cell_type": "code",
   "execution_count": 33,
   "metadata": {
    "ExecuteTime": {
     "end_time": "2024-11-11T11:05:30.409052Z",
     "start_time": "2024-11-11T11:05:29.436374Z"
    },
    "id": "KrH9FCLLcpLR"
   },
   "outputs": [],
   "source": [
    "stop_words=set(stopwords.words('english'))\n",
    "\n",
    "def remove_stopwords(text):\n",
    "    words = text.split()\n",
    "    filtered_words = [word for word in words if word not in stop_words]\n",
    "    return \" \".join(filtered_words)\n",
    "\n",
    "df[\"Content\"]=df[\"Content\"].apply(lambda x: remove_stopwords(x))"
   ]
  },
  {
   "cell_type": "code",
   "execution_count": 34,
   "metadata": {
    "ExecuteTime": {
     "end_time": "2024-11-11T11:05:30.450900Z",
     "start_time": "2024-11-11T11:05:30.414258Z"
    },
    "colab": {
     "base_uri": "https://localhost:8080/"
    },
    "id": "KZFS2A0Acsuw",
    "outputId": "9c5966db-a738-4beb-ae16-81dad6adc7f3"
   },
   "outputs": [
    {
     "name": "stderr",
     "output_type": "stream",
     "text": [
      "[nltk_data] Downloading package punkt to\n",
      "[nltk_data]     /Users/yashagarwal/nltk_data...\n",
      "[nltk_data]   Package punkt is already up-to-date!\n"
     ]
    }
   ],
   "source": [
    "import nltk\n",
    "nltk.download('punkt')\n",
    "\n",
    "abbreviation_dict = {\n",
    "    'LOL': 'laugh out loud',\n",
    "    'BRB': 'be right back',\n",
    "    'OMG': 'oh my god',\n",
    "    'AFAIK': 'as far as I know',\n",
    "    'AFK': 'away from keyboard',\n",
    "    'ASAP': 'as soon as possible',\n",
    "    'ATK': 'at the keyboard',\n",
    "    'ATM': 'at the moment',\n",
    "    'A3': 'anytime, anywhere, anyplace',\n",
    "    'BAK': 'back at keyboard',\n",
    "    'BBL': 'be back later',\n",
    "    'BBS': 'be back soon',\n",
    "    'BFN': 'bye for now',\n",
    "    'B4N': 'bye for now',\n",
    "    'BRB': 'be right back',\n",
    "    'BRT': 'be right there',\n",
    "    'BTW': 'by the way',\n",
    "    'B4': 'before',\n",
    "    'B4N': 'bye for now',\n",
    "    'CU': 'see you',\n",
    "    'CUL8R': 'see you later',\n",
    "    'CYA': 'see you',\n",
    "    'FAQ': 'frequently asked questions',\n",
    "    'FC': 'fingers crossed',\n",
    "    'FWIW': 'for what it\\'s worth',\n",
    "    'FYI': 'For Your Information',\n",
    "    'GAL': 'get a life',\n",
    "    'GG': 'good game',\n",
    "    'GN': 'good night',\n",
    "    'GMTA': 'great minds think alike',\n",
    "    'GR8': 'great!',\n",
    "    'G9': 'genius',\n",
    "    'IC': 'i see',\n",
    "    'ICQ': 'i seek you',\n",
    "    'ILU': 'i love you',\n",
    "    'IMHO': 'in my honest/humble opinion',\n",
    "    'IMO': 'in my opinion',\n",
    "    'IOW': 'in other words',\n",
    "    'IRL': 'in real life',\n",
    "    'KISS': 'keep it simple, stupid',\n",
    "    'LDR': 'long distance relationship',\n",
    "    'LMAO': 'laugh my a.. off',\n",
    "    'LOL': 'laughing out loud',\n",
    "    'LTNS': 'long time no see',\n",
    "    'L8R': 'later',\n",
    "    'MTE': 'my thoughts exactly',\n",
    "    'M8': 'mate',\n",
    "    'NRN': 'no reply necessary',\n",
    "    'OIC': 'oh i see',\n",
    "    'PITA': 'pain in the a..',\n",
    "    'PRT': 'party',\n",
    "    'PRW': 'parents are watching',\n",
    "    'QPSA?': 'que pasa?',\n",
    "    'ROFL': 'rolling on the floor laughing',\n",
    "    'ROFLOL': 'rolling on the floor laughing out loud',\n",
    "    'ROTFLMAO': 'rolling on the floor laughing my a.. off',\n",
    "    'SK8': 'skate',\n",
    "    'STATS': 'your sex and age',\n",
    "    'ASL': 'age, sex, location',\n",
    "    'THX': 'thank you',\n",
    "    'TTFN': 'ta-ta for now!',\n",
    "    'TTYL': 'talk to you later',\n",
    "    'U': 'you',\n",
    "    'U2': 'you too',\n",
    "    'U4E': 'yours for ever',\n",
    "    'WB': 'welcome back',\n",
    "    'WTF': 'what the f...',\n",
    "    'WTG': 'way to go!',\n",
    "    'WUF': 'where are you from?',\n",
    "    'W8': 'wait...',\n",
    "    '7K': 'sick laughter',\n",
    "    'TFW': 'that feeling when',\n",
    "    'MFW': 'my face when',\n",
    "    'MRW': 'my reaction when',\n",
    "    'IFYP': 'i feel your pain',\n",
    "    'LOL': 'laughing out loud',\n",
    "    'TNTL': 'trying not to laugh',\n",
    "    'JK': 'just kidding',\n",
    "    'IDC': 'i don’t care',\n",
    "    'ILY': 'i love you',\n",
    "    'IMU': 'i miss you',\n",
    "    'ADIH': 'another day in hell',\n",
    "    'IDC': 'i don’t care',\n",
    "    'ZZZ': 'sleeping, bored, tired',\n",
    "    'WYWH': 'wish you were here',\n",
    "    'TIME': 'tears in my eyes',\n",
    "    'BAE': 'before anyone else',\n",
    "    'FIMH': 'forever in my heart',\n",
    "    'BSAAW': 'big smile and a wink',\n",
    "    'BWL': 'bursting with laughter',\n",
    "    'LMAO': 'laughing my a** off',\n",
    "    'BFF': 'best friends forever',\n",
    "    'CSL': 'can’t stop laughing',\n",
    "}"
   ]
  },
  {
   "cell_type": "code",
   "execution_count": 35,
   "metadata": {
    "ExecuteTime": {
     "end_time": "2024-11-11T11:05:37.483704Z",
     "start_time": "2024-11-11T11:05:33.994814Z"
    },
    "id": "mhCRWO-zdAlo"
   },
   "outputs": [],
   "source": [
    "def replace_abbreviations(text, abbreviation_dict):\n",
    "    for abbreviation, full_form in abbreviation_dict.items():\n",
    "        text = text.replace(abbreviation, full_form)\n",
    "    return text\n",
    "df['Content'] = df['Content'].apply(lambda x: replace_abbreviations(x,abbreviation_dict))"
   ]
  },
  {
   "cell_type": "code",
   "execution_count": 36,
   "metadata": {
    "ExecuteTime": {
     "end_time": "2024-11-11T11:05:37.489849Z",
     "start_time": "2024-11-11T11:05:37.484896Z"
    },
    "colab": {
     "base_uri": "https://localhost:8080/",
     "height": 206
    },
    "id": "Sk6qXCwodC2E",
    "outputId": "56713c74-5606-4fa1-b91b-83245e460069"
   },
   "outputs": [
    {
     "data": {
      "text/html": [
       "<div>\n",
       "<style scoped>\n",
       "    .dataframe tbody tr th:only-of-type {\n",
       "        vertical-align: middle;\n",
       "    }\n",
       "\n",
       "    .dataframe tbody tr th {\n",
       "        vertical-align: top;\n",
       "    }\n",
       "\n",
       "    .dataframe thead th {\n",
       "        text-align: right;\n",
       "    }\n",
       "</style>\n",
       "<table border=\"1\" class=\"dataframe\">\n",
       "  <thead>\n",
       "    <tr style=\"text-align: right;\">\n",
       "      <th></th>\n",
       "      <th>Headline</th>\n",
       "      <th>Content</th>\n",
       "      <th>News Categories</th>\n",
       "      <th>category_grouped</th>\n",
       "      <th>year</th>\n",
       "      <th>month</th>\n",
       "      <th>day</th>\n",
       "    </tr>\n",
       "  </thead>\n",
       "  <tbody>\n",
       "    <tr>\n",
       "      <th>0</th>\n",
       "      <td>Congress leader Baljinder Singh shot dead at h...</td>\n",
       "      <td>congress leader baljinder singh shot dead hous...</td>\n",
       "      <td>national</td>\n",
       "      <td>['national']</td>\n",
       "      <td>2023</td>\n",
       "      <td>9</td>\n",
       "      <td>19</td>\n",
       "    </tr>\n",
       "    <tr>\n",
       "      <th>1</th>\n",
       "      <td>17-year-old girl preparing for NEET dies by su...</td>\n",
       "      <td>another neet aspirant died suicide rajasthans ...</td>\n",
       "      <td>national</td>\n",
       "      <td>['national']</td>\n",
       "      <td>2023</td>\n",
       "      <td>9</td>\n",
       "      <td>19</td>\n",
       "    </tr>\n",
       "    <tr>\n",
       "      <th>2</th>\n",
       "      <td>Hampers to welcome MPs in new Parliament tomor...</td>\n",
       "      <td>order mark firstever working day new parliamen...</td>\n",
       "      <td>national</td>\n",
       "      <td>['national']</td>\n",
       "      <td>2023</td>\n",
       "      <td>9</td>\n",
       "      <td>19</td>\n",
       "    </tr>\n",
       "    <tr>\n",
       "      <th>3</th>\n",
       "      <td>Only 10% women lawmakers in RS, while only 14%...</td>\n",
       "      <td>congress president mallikarjun kharge speaking...</td>\n",
       "      <td>national</td>\n",
       "      <td>['national']</td>\n",
       "      <td>2023</td>\n",
       "      <td>9</td>\n",
       "      <td>19</td>\n",
       "    </tr>\n",
       "    <tr>\n",
       "      <th>4</th>\n",
       "      <td>Ganesh temple decorated with notes, coins wort...</td>\n",
       "      <td>sri sathya ganapathi temple bengaluru adorned ...</td>\n",
       "      <td>national</td>\n",
       "      <td>['national']</td>\n",
       "      <td>2023</td>\n",
       "      <td>9</td>\n",
       "      <td>19</td>\n",
       "    </tr>\n",
       "  </tbody>\n",
       "</table>\n",
       "</div>"
      ],
      "text/plain": [
       "                                            Headline  \\\n",
       "0  Congress leader Baljinder Singh shot dead at h...   \n",
       "1  17-year-old girl preparing for NEET dies by su...   \n",
       "2  Hampers to welcome MPs in new Parliament tomor...   \n",
       "3  Only 10% women lawmakers in RS, while only 14%...   \n",
       "4  Ganesh temple decorated with notes, coins wort...   \n",
       "\n",
       "                                             Content News Categories  \\\n",
       "0  congress leader baljinder singh shot dead hous...        national   \n",
       "1  another neet aspirant died suicide rajasthans ...        national   \n",
       "2  order mark firstever working day new parliamen...        national   \n",
       "3  congress president mallikarjun kharge speaking...        national   \n",
       "4  sri sathya ganapathi temple bengaluru adorned ...        national   \n",
       "\n",
       "  category_grouped  year  month  day  \n",
       "0     ['national']  2023      9   19  \n",
       "1     ['national']  2023      9   19  \n",
       "2     ['national']  2023      9   19  \n",
       "3     ['national']  2023      9   19  \n",
       "4     ['national']  2023      9   19  "
      ]
     },
     "execution_count": 36,
     "metadata": {},
     "output_type": "execute_result"
    }
   ],
   "source": [
    "df.head()"
   ]
  },
  {
   "cell_type": "code",
   "execution_count": 37,
   "metadata": {
    "ExecuteTime": {
     "end_time": "2024-11-11T11:05:53.526887Z",
     "start_time": "2024-11-11T11:05:38.378079Z"
    },
    "colab": {
     "base_uri": "https://localhost:8080/",
     "height": 242
    },
    "id": "wXA9FW7BdEbl",
    "outputId": "929663e8-ed55-435e-ad35-a5b4923d8d82"
   },
   "outputs": [
    {
     "name": "stderr",
     "output_type": "stream",
     "text": [
      "[nltk_data] Downloading package punkt to\n",
      "[nltk_data]     /Users/yashagarwal/nltk_data...\n",
      "[nltk_data]   Package punkt is already up-to-date!\n"
     ]
    },
    {
     "data": {
      "text/html": [
       "<div>\n",
       "<style scoped>\n",
       "    .dataframe tbody tr th:only-of-type {\n",
       "        vertical-align: middle;\n",
       "    }\n",
       "\n",
       "    .dataframe tbody tr th {\n",
       "        vertical-align: top;\n",
       "    }\n",
       "\n",
       "    .dataframe thead th {\n",
       "        text-align: right;\n",
       "    }\n",
       "</style>\n",
       "<table border=\"1\" class=\"dataframe\">\n",
       "  <thead>\n",
       "    <tr style=\"text-align: right;\">\n",
       "      <th></th>\n",
       "      <th>Headline</th>\n",
       "      <th>Content</th>\n",
       "      <th>News Categories</th>\n",
       "      <th>category_grouped</th>\n",
       "      <th>year</th>\n",
       "      <th>month</th>\n",
       "      <th>day</th>\n",
       "    </tr>\n",
       "  </thead>\n",
       "  <tbody>\n",
       "    <tr>\n",
       "      <th>0</th>\n",
       "      <td>Congress leader Baljinder Singh shot dead at h...</td>\n",
       "      <td>congress leader baljinder singh shot dead hous...</td>\n",
       "      <td>national</td>\n",
       "      <td>['national']</td>\n",
       "      <td>2023</td>\n",
       "      <td>9</td>\n",
       "      <td>19</td>\n",
       "    </tr>\n",
       "    <tr>\n",
       "      <th>1</th>\n",
       "      <td>17-year-old girl preparing for NEET dies by su...</td>\n",
       "      <td>another neet aspirant died suicide rajasthans ...</td>\n",
       "      <td>national</td>\n",
       "      <td>['national']</td>\n",
       "      <td>2023</td>\n",
       "      <td>9</td>\n",
       "      <td>19</td>\n",
       "    </tr>\n",
       "    <tr>\n",
       "      <th>2</th>\n",
       "      <td>Hampers to welcome MPs in new Parliament tomor...</td>\n",
       "      <td>order mark firstever working day new parliamen...</td>\n",
       "      <td>national</td>\n",
       "      <td>['national']</td>\n",
       "      <td>2023</td>\n",
       "      <td>9</td>\n",
       "      <td>19</td>\n",
       "    </tr>\n",
       "    <tr>\n",
       "      <th>3</th>\n",
       "      <td>Only 10% women lawmakers in RS, while only 14%...</td>\n",
       "      <td>congress president mallikarjun kharge speaking...</td>\n",
       "      <td>national</td>\n",
       "      <td>['national']</td>\n",
       "      <td>2023</td>\n",
       "      <td>9</td>\n",
       "      <td>19</td>\n",
       "    </tr>\n",
       "    <tr>\n",
       "      <th>4</th>\n",
       "      <td>Ganesh temple decorated with notes, coins wort...</td>\n",
       "      <td>sri sathya ganapathi temple bengaluru adorned ...</td>\n",
       "      <td>national</td>\n",
       "      <td>['national']</td>\n",
       "      <td>2023</td>\n",
       "      <td>9</td>\n",
       "      <td>19</td>\n",
       "    </tr>\n",
       "  </tbody>\n",
       "</table>\n",
       "</div>"
      ],
      "text/plain": [
       "                                            Headline  \\\n",
       "0  Congress leader Baljinder Singh shot dead at h...   \n",
       "1  17-year-old girl preparing for NEET dies by su...   \n",
       "2  Hampers to welcome MPs in new Parliament tomor...   \n",
       "3  Only 10% women lawmakers in RS, while only 14%...   \n",
       "4  Ganesh temple decorated with notes, coins wort...   \n",
       "\n",
       "                                             Content News Categories  \\\n",
       "0  congress leader baljinder singh shot dead hous...        national   \n",
       "1  another neet aspirant died suicide rajasthans ...        national   \n",
       "2  order mark firstever working day new parliamen...        national   \n",
       "3  congress president mallikarjun kharge speaking...        national   \n",
       "4  sri sathya ganapathi temple bengaluru adorned ...        national   \n",
       "\n",
       "  category_grouped  year  month  day  \n",
       "0     ['national']  2023      9   19  \n",
       "1     ['national']  2023      9   19  \n",
       "2     ['national']  2023      9   19  \n",
       "3     ['national']  2023      9   19  \n",
       "4     ['national']  2023      9   19  "
      ]
     },
     "execution_count": 37,
     "metadata": {},
     "output_type": "execute_result"
    }
   ],
   "source": [
    "import nltk\n",
    "nltk.download('punkt')\n",
    "\n",
    "def tokenize_text(text):\n",
    "    # Tokenize each sentence into words\n",
    "    words_list = [word_tokenize(sentence) for sentence in sent_tokenize(text)]\n",
    "\n",
    "    words = ' '.join(' '.join(words) for words in words_list)\n",
    "\n",
    "    return words\n",
    "\n",
    "df[\"Content\"] = df[\"Content\"].apply(tokenize_text)\n",
    "\n",
    "df.head()"
   ]
  },
  {
   "cell_type": "code",
   "execution_count": 38,
   "metadata": {
    "ExecuteTime": {
     "end_time": "2024-11-11T11:05:54.969811Z",
     "start_time": "2024-11-11T11:05:53.528626Z"
    },
    "colab": {
     "base_uri": "https://localhost:8080/"
    },
    "id": "uzVAPrp2dGqz",
    "outputId": "e0b96748-d17a-44d3-aeb8-443a7ae51267"
   },
   "outputs": [
    {
     "name": "stdout",
     "output_type": "stream",
     "text": [
      "Requirement already satisfied: imbalanced-learn in /Users/yashagarwal/miniconda3/envs/ML/lib/python3.11/site-packages (0.12.4)\n",
      "Requirement already satisfied: numpy>=1.17.3 in /Users/yashagarwal/miniconda3/envs/ML/lib/python3.11/site-packages (from imbalanced-learn) (1.23.5)\n",
      "Requirement already satisfied: scipy>=1.5.0 in /Users/yashagarwal/miniconda3/envs/ML/lib/python3.11/site-packages (from imbalanced-learn) (1.11.4)\n",
      "Requirement already satisfied: scikit-learn>=1.0.2 in /Users/yashagarwal/miniconda3/envs/ML/lib/python3.11/site-packages (from imbalanced-learn) (1.3.0)\n",
      "Requirement already satisfied: joblib>=1.1.1 in /Users/yashagarwal/miniconda3/envs/ML/lib/python3.11/site-packages (from imbalanced-learn) (1.2.0)\n",
      "Requirement already satisfied: threadpoolctl>=2.0.0 in /Users/yashagarwal/miniconda3/envs/ML/lib/python3.11/site-packages (from imbalanced-learn) (2.2.0)\n"
     ]
    }
   ],
   "source": [
    "!pip install imbalanced-learn"
   ]
  },
  {
   "cell_type": "code",
   "execution_count": 39,
   "metadata": {
    "ExecuteTime": {
     "end_time": "2024-11-11T11:05:55.113003Z",
     "start_time": "2024-11-11T11:05:54.970713Z"
    },
    "id": "HYfEdA8edKpY"
   },
   "outputs": [],
   "source": [
    "from sklearn.preprocessing import LabelEncoder\n",
    "from sklearn.utils.class_weight import compute_class_weight"
   ]
  },
  {
   "cell_type": "code",
   "execution_count": 40,
   "metadata": {
    "ExecuteTime": {
     "end_time": "2024-11-11T11:05:59.103971Z",
     "start_time": "2024-11-11T11:05:59.063600Z"
    },
    "colab": {
     "base_uri": "https://localhost:8080/",
     "height": 458
    },
    "id": "QclrqC1RdO90",
    "outputId": "5b5f1da5-552c-4e06-ef1b-3e29984d5798"
   },
   "outputs": [
    {
     "data": {
      "text/plain": [
       "0         congress leader baljinder singh shot dead hous...\n",
       "1         another neet aspirant died suicide rajasthans ...\n",
       "2         order mark firstever working day new parliamen...\n",
       "3         congress president mallikarjun kharge speaking...\n",
       "4         sri sathya ganapathi temple bengaluru adorned ...\n",
       "                                ...                        \n",
       "199701    pancreas incredibly important organ particular...\n",
       "199702    recent study published oral diseases reported ...\n",
       "199703    hospitalacquired infections hais refer infecti...\n",
       "199704    scientists university oxford uk launched first...\n",
       "199705    high blood pressure happens force blood pushin...\n",
       "Name: Content, Length: 199706, dtype: object"
      ]
     },
     "execution_count": 40,
     "metadata": {},
     "output_type": "execute_result"
    }
   ],
   "source": [
    "X = df['Content']\n",
    "y = df['category_grouped']\n",
    "\n",
    "# Encoding labels\n",
    "le = LabelEncoder()\n",
    "y_encoded = le.fit_transform(y)\n",
    "\n",
    "class_weights_train = compute_class_weight('balanced', classes=np.unique(y_encoded), y=y_encoded)\n",
    "\n",
    "X"
   ]
  },
  {
   "cell_type": "code",
   "execution_count": 41,
   "metadata": {
    "ExecuteTime": {
     "end_time": "2024-11-11T11:06:02.448332Z",
     "start_time": "2024-11-11T11:06:02.444164Z"
    },
    "colab": {
     "base_uri": "https://localhost:8080/"
    },
    "id": "8sILqykudRzx",
    "outputId": "b2db553e-f90f-4783-8a2f-9252eb97d497"
   },
   "outputs": [
    {
     "data": {
      "text/plain": [
       "(199706,)"
      ]
     },
     "execution_count": 41,
     "metadata": {},
     "output_type": "execute_result"
    }
   ],
   "source": [
    "y.shape"
   ]
  },
  {
   "cell_type": "code",
   "execution_count": 42,
   "metadata": {
    "ExecuteTime": {
     "end_time": "2024-11-11T11:06:02.612674Z",
     "start_time": "2024-11-11T11:06:02.610176Z"
    },
    "colab": {
     "base_uri": "https://localhost:8080/"
    },
    "id": "yZ2lObfidVIW",
    "outputId": "e7f9225b-93a2-47e0-d347-d95c85e8ef44"
   },
   "outputs": [
    {
     "data": {
      "text/plain": [
       "array([284, 284, 284, ...,  72, 346,  72])"
      ]
     },
     "execution_count": 42,
     "metadata": {},
     "output_type": "execute_result"
    }
   ],
   "source": [
    "y_encoded"
   ]
  },
  {
   "cell_type": "code",
   "execution_count": 43,
   "metadata": {
    "ExecuteTime": {
     "end_time": "2024-11-11T11:06:02.967415Z",
     "start_time": "2024-11-11T11:06:02.955323Z"
    },
    "id": "pYupNkxadW7N"
   },
   "outputs": [],
   "source": [
    "\n",
    "\n",
    "# Split the data into training and testing sets\n",
    "X_train, X_test, y_train, y_test = train_test_split(X, y_encoded, test_size=0.2, random_state=42)"
   ]
  },
  {
   "cell_type": "code",
   "execution_count": 44,
   "metadata": {
    "ExecuteTime": {
     "end_time": "2024-11-11T11:06:09.802803Z",
     "start_time": "2024-11-11T11:06:04.541168Z"
    },
    "colab": {
     "base_uri": "https://localhost:8080/"
    },
    "id": "f4p0z2wgdYr7",
    "outputId": "a9288b8b-c664-43e7-c3c5-86d4971f0839"
   },
   "outputs": [
    {
     "name": "stdout",
     "output_type": "stream",
     "text": [
      "MultinomialNB with Bag of Words accuracy: 0.892\n",
      "Classification Report:\n",
      "               precision    recall  f1-score   support\n",
      "\n",
      "           0       0.00      0.00      0.00        32\n",
      "           1       0.00      0.00      0.00         8\n",
      "           2       1.00      1.00      1.00        11\n",
      "           3       1.00      0.83      0.91        30\n",
      "           4       1.00      1.00      1.00         9\n",
      "           5       0.00      0.00      0.00         7\n",
      "           6       0.00      0.00      0.00         1\n",
      "           7       1.00      1.00      1.00         2\n",
      "           8       1.00      1.00      1.00        18\n",
      "           9       1.00      0.71      0.83         7\n",
      "          10       0.00      0.00      0.00         2\n",
      "          11       1.00      1.00      1.00         2\n",
      "          12       1.00      1.00      1.00        15\n",
      "          13       0.00      0.00      0.00         7\n",
      "          14       1.00      1.00      1.00        10\n",
      "          15       1.00      1.00      1.00         6\n",
      "          16       1.00      1.00      1.00         4\n",
      "          17       1.00      1.00      1.00         5\n",
      "          18       1.00      0.29      0.44         7\n",
      "          19       0.00      0.00      0.00         1\n",
      "          20       0.00      0.00      0.00         1\n",
      "          21       1.00      1.00      1.00         4\n",
      "          22       1.00      1.00      1.00         1\n",
      "          23       1.00      1.00      1.00         9\n",
      "          24       1.00      0.75      0.86         4\n",
      "          25       1.00      1.00      1.00         4\n",
      "          26       0.00      0.00      0.00         1\n",
      "          28       1.00      1.00      1.00         7\n",
      "          30       1.00      1.00      1.00        13\n",
      "          31       1.00      0.64      0.78        14\n",
      "          32       1.00      1.00      1.00         7\n",
      "          33       0.00      0.00      0.00         1\n",
      "          34       1.00      1.00      1.00         3\n",
      "          35       1.00      1.00      1.00         3\n",
      "          36       1.00      1.00      1.00         1\n",
      "          38       0.00      0.00      0.00         3\n",
      "          39       0.00      0.00      0.00         3\n",
      "          40       1.00      1.00      1.00         1\n",
      "          41       1.00      1.00      1.00         1\n",
      "          42       1.00      1.00      1.00         3\n",
      "          43       1.00      1.00      1.00         3\n",
      "          44       1.00      1.00      1.00        12\n",
      "          45       1.00      0.60      0.75         5\n",
      "          46       1.00      1.00      1.00        30\n",
      "          47       1.00      1.00      1.00         4\n",
      "          48       1.00      0.81      0.90        32\n",
      "          49       1.00      1.00      1.00         9\n",
      "          50       0.00      0.00      0.00         1\n",
      "          51       1.00      1.00      1.00         3\n",
      "          52       0.00      0.00      0.00         1\n",
      "          53       1.00      1.00      1.00         3\n",
      "          54       1.00      1.00      1.00         4\n",
      "          55       1.00      1.00      1.00         4\n",
      "          56       1.00      1.00      1.00         1\n",
      "          57       1.00      1.00      1.00         4\n",
      "          58       0.00      0.00      0.00         4\n",
      "          59       1.00      0.67      0.80         9\n",
      "          60       1.00      1.00      1.00        58\n",
      "          61       1.00      1.00      1.00         3\n",
      "          62       0.00      0.00      0.00         2\n",
      "          63       1.00      0.50      0.67         2\n",
      "          64       1.00      1.00      1.00        24\n",
      "          65       1.00      0.09      0.17        11\n",
      "          66       0.00      0.00      0.00         3\n",
      "          67       1.00      0.04      0.08        23\n",
      "          68       1.00      1.00      1.00         4\n",
      "          69       1.00      0.84      0.91       174\n",
      "          70       1.00      0.93      0.96        56\n",
      "          71       1.00      1.00      1.00         6\n",
      "          72       0.84      0.96      0.90       839\n",
      "          73       1.00      0.14      0.25        14\n",
      "          74       1.00      0.75      0.86         4\n",
      "          75       0.00      0.00      0.00         3\n",
      "          76       1.00      0.50      0.67         2\n",
      "          77       0.00      0.00      0.00         3\n",
      "          78       0.00      0.00      0.00         2\n",
      "          80       0.00      0.00      0.00         2\n",
      "          81       0.00      0.00      0.00         4\n",
      "          82       0.00      0.00      0.00         1\n",
      "          83       0.98      0.20      0.33       235\n",
      "          84       0.00      0.00      0.00         1\n",
      "          85       1.00      1.00      1.00         8\n",
      "          86       0.00      0.00      0.00         4\n",
      "          87       1.00      0.17      0.29         6\n",
      "          88       0.00      0.00      0.00         9\n",
      "          89       1.00      1.00      1.00         3\n",
      "          90       0.00      0.00      0.00         1\n",
      "          91       1.00      0.93      0.97        46\n",
      "          92       1.00      1.00      1.00        12\n",
      "          93       1.00      1.00      1.00        15\n",
      "          94       1.00      1.00      1.00        69\n",
      "          95       1.00      0.99      0.99       186\n",
      "          96       1.00      1.00      1.00        32\n",
      "          97       1.00      0.97      0.99       187\n",
      "          98       0.98      1.00      0.99      1371\n",
      "          99       1.00      1.00      1.00        13\n",
      "         100       0.00      0.00      0.00         4\n",
      "         101       0.97      0.97      0.97       138\n",
      "         102       1.00      1.00      1.00        10\n",
      "         103       1.00      1.00      1.00        12\n",
      "         104       1.00      1.00      1.00        18\n",
      "         105       1.00      1.00      1.00        15\n",
      "         106       1.00      1.00      1.00        70\n",
      "         107       1.00      1.00      1.00        15\n",
      "         108       1.00      1.00      1.00        10\n",
      "         109       0.99      1.00      1.00       372\n",
      "         110       0.00      0.00      0.00         6\n",
      "         111       1.00      1.00      1.00         9\n",
      "         112       1.00      1.00      1.00         7\n",
      "         113       1.00      1.00      1.00         6\n",
      "         114       1.00      0.97      0.98       190\n",
      "         115       1.00      0.80      0.89        10\n",
      "         116       1.00      0.88      0.94        42\n",
      "         117       0.00      0.00      0.00         1\n",
      "         118       1.00      1.00      1.00         3\n",
      "         119       1.00      0.60      0.75        15\n",
      "         120       0.89      1.00      0.94         8\n",
      "         121       0.00      0.00      0.00         5\n",
      "         122       1.00      0.42      0.59        12\n",
      "         123       0.00      0.00      0.00         2\n",
      "         124       0.00      0.00      0.00         5\n",
      "         125       0.00      0.00      0.00         4\n",
      "         126       1.00      0.72      0.84        40\n",
      "         127       1.00      1.00      1.00        87\n",
      "         128       1.00      1.00      1.00         6\n",
      "         129       1.00      1.00      1.00         5\n",
      "         130       1.00      1.00      1.00         5\n",
      "         131       1.00      0.67      0.80        24\n",
      "         132       1.00      1.00      1.00        57\n",
      "         133       0.97      0.63      0.76       234\n",
      "         134       1.00      1.00      1.00         9\n",
      "         135       1.00      1.00      1.00        22\n",
      "         136       1.00      0.89      0.94        18\n",
      "         137       0.00      0.00      0.00         3\n",
      "         138       0.00      0.00      0.00         3\n",
      "         139       1.00      1.00      1.00         4\n",
      "         140       1.00      0.80      0.89         5\n",
      "         141       1.00      0.11      0.20         9\n",
      "         142       1.00      1.00      1.00        12\n",
      "         143       1.00      0.69      0.81        16\n",
      "         144       1.00      1.00      1.00        27\n",
      "         145       1.00      1.00      1.00         4\n",
      "         146       1.00      0.64      0.78        33\n",
      "         147       1.00      1.00      1.00        55\n",
      "         148       1.00      0.33      0.50         6\n",
      "         149       0.00      0.00      0.00         5\n",
      "         150       1.00      1.00      1.00       116\n",
      "         151       0.00      0.00      0.00         3\n",
      "         152       1.00      1.00      1.00        16\n",
      "         153       0.87      0.94      0.90      1322\n",
      "         154       1.00      0.83      0.91        18\n",
      "         155       0.98      0.86      0.92       619\n",
      "         156       1.00      1.00      1.00         3\n",
      "         157       0.91      0.91      0.91       769\n",
      "         158       1.00      0.96      0.98       136\n",
      "         159       0.80      0.91      0.85      1407\n",
      "         160       1.00      1.00      1.00         1\n",
      "         161       0.98      0.89      0.93        53\n",
      "         162       0.00      0.00      0.00         2\n",
      "         163       1.00      0.40      0.57         5\n",
      "         164       0.00      0.00      0.00         2\n",
      "         165       0.00      0.00      0.00         2\n",
      "         167       1.00      1.00      1.00        31\n",
      "         168       1.00      1.00      1.00        54\n",
      "         169       1.00      1.00      1.00         6\n",
      "         170       1.00      1.00      1.00         9\n",
      "         171       1.00      1.00      1.00        71\n",
      "         172       1.00      1.00      1.00         7\n",
      "         173       1.00      1.00      1.00        11\n",
      "         174       1.00      1.00      1.00         3\n",
      "         175       1.00      1.00      1.00        13\n",
      "         176       1.00      1.00      1.00        16\n",
      "         177       1.00      1.00      1.00         5\n",
      "         178       1.00      1.00      1.00         3\n",
      "         179       1.00      0.33      0.50         6\n",
      "         180       1.00      0.75      0.86         8\n",
      "         181       0.97      0.98      0.97      1243\n",
      "         182       1.00      1.00      1.00         5\n",
      "         183       1.00      1.00      1.00        10\n",
      "         184       1.00      1.00      1.00         2\n",
      "         185       1.00      1.00      1.00        16\n",
      "         186       1.00      1.00      1.00         1\n",
      "         187       1.00      1.00      1.00        23\n",
      "         188       1.00      0.82      0.90        17\n",
      "         189       1.00      1.00      1.00        12\n",
      "         190       0.00      0.00      0.00         1\n",
      "         191       1.00      1.00      1.00        14\n",
      "         192       1.00      1.00      1.00         5\n",
      "         193       1.00      1.00      1.00         3\n",
      "         194       1.00      1.00      1.00        37\n",
      "         195       1.00      0.99      0.99        72\n",
      "         196       0.93      0.92      0.92       795\n",
      "         197       1.00      1.00      1.00        10\n",
      "         198       1.00      0.95      0.98        22\n",
      "         199       0.00      0.00      0.00         3\n",
      "         200       0.99      1.00      0.99      1437\n",
      "         201       1.00      0.25      0.40         4\n",
      "         202       0.92      0.61      0.73       216\n",
      "         203       0.00      0.00      0.00         1\n",
      "         204       1.00      0.92      0.96        12\n",
      "         205       1.00      1.00      1.00         2\n",
      "         206       1.00      1.00      1.00         6\n",
      "         207       1.00      0.50      0.67        10\n",
      "         208       1.00      0.68      0.81        38\n",
      "         209       1.00      1.00      1.00         3\n",
      "         210       0.88      0.96      0.92      2187\n",
      "         211       1.00      1.00      1.00       667\n",
      "         212       0.00      0.00      0.00         3\n",
      "         213       1.00      1.00      1.00        11\n",
      "         214       0.00      0.00      0.00         3\n",
      "         215       1.00      1.00      1.00        18\n",
      "         216       1.00      1.00      1.00        11\n",
      "         217       1.00      1.00      1.00         2\n",
      "         218       1.00      1.00      1.00         3\n",
      "         219       0.00      0.00      0.00         1\n",
      "         220       1.00      1.00      1.00         4\n",
      "         221       1.00      0.50      0.67         2\n",
      "         222       1.00      1.00      1.00         1\n",
      "         223       1.00      1.00      1.00        26\n",
      "         224       1.00      1.00      1.00         2\n",
      "         225       0.00      0.00      0.00         1\n",
      "         226       1.00      1.00      1.00         5\n",
      "         227       1.00      1.00      1.00         3\n",
      "         228       1.00      1.00      1.00         2\n",
      "         229       0.00      0.00      0.00         1\n",
      "         230       1.00      0.91      0.95        11\n",
      "         231       1.00      1.00      1.00        11\n",
      "         232       1.00      1.00      1.00         1\n",
      "         233       1.00      0.35      0.52        34\n",
      "         234       0.00      0.00      0.00         6\n",
      "         235       1.00      1.00      1.00         6\n",
      "         236       1.00      1.00      1.00         1\n",
      "         237       1.00      1.00      1.00        18\n",
      "         238       0.00      0.00      0.00         3\n",
      "         239       0.00      0.00      0.00        12\n",
      "         240       1.00      0.75      0.86         8\n",
      "         241       1.00      0.95      0.97        59\n",
      "         242       1.00      1.00      1.00         2\n",
      "         243       1.00      0.62      0.77         8\n",
      "         245       1.00      1.00      1.00         3\n",
      "         246       0.00      0.00      0.00         3\n",
      "         247       0.00      0.00      0.00        13\n",
      "         248       0.00      0.00      0.00         1\n",
      "         249       1.00      1.00      1.00         4\n",
      "         250       1.00      0.92      0.96        36\n",
      "         251       1.00      0.33      0.50         6\n",
      "         252       1.00      0.25      0.40         8\n",
      "         253       1.00      0.50      0.67        10\n",
      "         254       1.00      0.17      0.29         6\n",
      "         255       1.00      0.80      0.89         5\n",
      "         256       1.00      1.00      1.00         5\n",
      "         257       1.00      1.00      1.00         2\n",
      "         258       1.00      1.00      1.00        18\n",
      "         259       1.00      1.00      1.00         8\n",
      "         260       1.00      0.29      0.45        34\n",
      "         261       1.00      1.00      1.00        10\n",
      "         262       0.00      0.00      0.00         5\n",
      "         263       1.00      1.00      1.00        10\n",
      "         264       1.00      0.82      0.90        11\n",
      "         265       1.00      0.66      0.80        59\n",
      "         266       0.00      0.00      0.00         2\n",
      "         267       1.00      0.20      0.33         5\n",
      "         268       1.00      0.78      0.88        18\n",
      "         269       1.00      1.00      1.00         4\n",
      "         270       1.00      0.44      0.61        16\n",
      "         271       0.99      1.00      1.00       107\n",
      "         272       0.00      0.00      0.00         3\n",
      "         273       1.00      1.00      1.00         3\n",
      "         274       1.00      1.00      1.00         4\n",
      "         275       1.00      1.00      1.00         4\n",
      "         276       0.95      0.88      0.91      2132\n",
      "         277       1.00      1.00      1.00         2\n",
      "         278       0.88      0.98      0.93       463\n",
      "         279       0.00      0.00      0.00         1\n",
      "         280       1.00      1.00      1.00        38\n",
      "         281       1.00      1.00      1.00         4\n",
      "         282       0.95      0.77      0.85       154\n",
      "         283       0.96      0.98      0.97       898\n",
      "         284       0.66      0.81      0.73      1516\n",
      "         285       1.00      1.00      1.00         7\n",
      "         286       1.00      0.33      0.50         6\n",
      "         287       1.00      0.45      0.62        11\n",
      "         288       0.00      0.00      0.00        14\n",
      "         289       0.00      0.00      0.00         3\n",
      "         290       1.00      0.74      0.85        23\n",
      "         291       1.00      0.71      0.83        14\n",
      "         292       0.00      0.00      0.00        12\n",
      "         293       1.00      1.00      1.00        49\n",
      "         294       1.00      1.00      1.00        11\n",
      "         295       1.00      1.00      1.00         4\n",
      "         296       1.00      1.00      1.00         2\n",
      "         297       1.00      1.00      1.00         3\n",
      "         298       1.00      0.92      0.96        76\n",
      "         300       1.00      1.00      1.00         6\n",
      "         301       1.00      0.50      0.67         8\n",
      "         302       1.00      0.58      0.74        24\n",
      "         303       1.00      0.57      0.73        35\n",
      "         304       1.00      1.00      1.00         5\n",
      "         305       1.00      1.00      1.00         7\n",
      "         306       1.00      1.00      1.00         2\n",
      "         307       0.00      0.00      0.00         3\n",
      "         308       0.00      0.00      0.00         7\n",
      "         309       1.00      1.00      1.00         1\n",
      "         310       0.00      0.00      0.00         1\n",
      "         311       1.00      1.00      1.00        21\n",
      "         312       0.00      0.00      0.00         3\n",
      "         313       1.00      0.87      0.93        63\n",
      "         314       1.00      1.00      1.00         2\n",
      "         315       1.00      0.76      0.87        17\n",
      "         316       1.00      0.54      0.70        13\n",
      "         318       0.88      0.65      0.75        46\n",
      "         319       1.00      0.67      0.80         3\n",
      "         320       0.79      0.80      0.80      1439\n",
      "         322       0.00      0.00      0.00         1\n",
      "         323       0.00      0.00      0.00         9\n",
      "         324       1.00      0.08      0.14        13\n",
      "         325       1.00      0.14      0.25        14\n",
      "         326       0.00      0.00      0.00         2\n",
      "         327       1.00      0.53      0.69        19\n",
      "         328       0.00      0.00      0.00         3\n",
      "         329       0.00      0.00      0.00         3\n",
      "         330       1.00      1.00      1.00         6\n",
      "         331       1.00      1.00      1.00         6\n",
      "         332       1.00      1.00      1.00         2\n",
      "         333       1.00      1.00      1.00         4\n",
      "         334       1.00      1.00      1.00         1\n",
      "         336       1.00      0.33      0.50         3\n",
      "         337       1.00      1.00      1.00         7\n",
      "         338       1.00      0.57      0.73        14\n",
      "         339       1.00      0.63      0.77        35\n",
      "         340       1.00      1.00      1.00         1\n",
      "         341       1.00      1.00      1.00         2\n",
      "         342       1.00      0.50      0.67        80\n",
      "         343       0.81      0.90      0.85      1533\n",
      "         345       1.00      0.89      0.94        37\n",
      "         346       0.95      1.00      0.97       645\n",
      "         347       1.00      0.53      0.70        15\n",
      "         348       0.98      0.95      0.96       207\n",
      "         349       0.97      0.79      0.87       180\n",
      "         350       0.93      0.96      0.95      1736\n",
      "         351       0.00      0.00      0.00         4\n",
      "         352       1.00      0.03      0.06        30\n",
      "         353       0.89      0.92      0.90       235\n",
      "         354       0.00      0.00      0.00         2\n",
      "         355       1.00      1.00      1.00         9\n",
      "         356       0.00      0.00      0.00        12\n",
      "         357       0.00      0.00      0.00        10\n",
      "         358       0.00      0.00      0.00         2\n",
      "         359       0.71      0.93      0.81       581\n",
      "         360       1.00      1.00      1.00         6\n",
      "         361       0.00      0.00      0.00         1\n",
      "         362       1.00      1.00      1.00         5\n",
      "         363       1.00      1.00      1.00         2\n",
      "         364       1.00      1.00      1.00         1\n",
      "         365       1.00      0.14      0.25         7\n",
      "         366       0.00      0.00      0.00         1\n",
      "         367       0.00      0.00      0.00         5\n",
      "         368       1.00      1.00      1.00         5\n",
      "         369       1.00      0.53      0.70        86\n",
      "         370       0.00      0.00      0.00         2\n",
      "         371       1.00      0.92      0.96        39\n",
      "         372       0.00      0.00      0.00         2\n",
      "         373       1.00      1.00      1.00        17\n",
      "         374       0.88      0.29      0.43        73\n",
      "         375       1.00      1.00      1.00         1\n",
      "         376       1.00      1.00      1.00         8\n",
      "         377       1.00      0.50      0.67         2\n",
      "         378       1.00      1.00      1.00         2\n",
      "         379       1.00      0.24      0.38        17\n",
      "         380       1.00      0.86      0.92         7\n",
      "         381       0.80      0.91      0.85      1419\n",
      "         382       1.00      1.00      1.00         4\n",
      "         383       1.00      0.98      0.99        44\n",
      "         384       1.00      1.00      1.00         7\n",
      "         385       0.00      0.00      0.00         6\n",
      "         386       0.00      0.00      0.00         1\n",
      "         387       1.00      1.00      1.00         9\n",
      "         388       1.00      0.58      0.74        43\n",
      "         389       1.00      0.74      0.85        27\n",
      "         390       0.83      0.95      0.89       140\n",
      "         391       0.73      0.86      0.79        28\n",
      "         392       0.00      0.00      0.00         3\n",
      "         393       0.96      0.89      0.92       410\n",
      "         394       1.00      1.00      1.00        10\n",
      "         395       0.92      0.92      0.92       899\n",
      "         396       0.00      0.00      0.00         6\n",
      "         397       1.00      1.00      1.00        21\n",
      "         398       1.00      0.97      0.98        60\n",
      "         399       0.83      0.94      0.88      1004\n",
      "         400       0.97      0.98      0.98       585\n",
      "         401       1.00      1.00      1.00        32\n",
      "         402       1.00      0.67      0.80         9\n",
      "         403       1.00      1.00      1.00         9\n",
      "         404       0.00      0.00      0.00         6\n",
      "         405       1.00      1.00      1.00         2\n",
      "         406       0.00      0.00      0.00         1\n",
      "         407       0.99      0.95      0.97       246\n",
      "         408       1.00      1.00      1.00        10\n",
      "         409       0.74      0.92      0.82       449\n",
      "         410       0.00      0.00      0.00         2\n",
      "         411       0.00      0.00      0.00         4\n",
      "         412       1.00      0.34      0.50        80\n",
      "         413       1.00      1.00      1.00         1\n",
      "         414       1.00      1.00      1.00         8\n",
      "         415       0.00      0.00      0.00        13\n",
      "         416       0.00      0.00      0.00         2\n",
      "         417       1.00      1.00      1.00         6\n",
      "         419       1.00      0.26      0.41        27\n",
      "         420       1.00      1.00      1.00        23\n",
      "         421       1.00      0.38      0.55         8\n",
      "         422       0.00      0.00      0.00         6\n",
      "         423       0.83      0.71      0.77        21\n",
      "         424       1.00      1.00      1.00         8\n",
      "         425       0.98      1.00      0.99        41\n",
      "         426       0.99      0.65      0.79       149\n",
      "         427       0.89      1.00      0.94         8\n",
      "         428       0.00      0.00      0.00         1\n",
      "         429       1.00      1.00      1.00         1\n",
      "         430       1.00      1.00      1.00         5\n",
      "         431       1.00      0.95      0.98        62\n",
      "         432       1.00      1.00      1.00         5\n",
      "         433       1.00      0.97      0.99       109\n",
      "         434       1.00      1.00      1.00         6\n",
      "         435       1.00      0.50      0.67        22\n",
      "         436       1.00      1.00      1.00        39\n",
      "         437       1.00      0.42      0.59        31\n",
      "         438       1.00      1.00      1.00         5\n",
      "         439       1.00      1.00      1.00        26\n",
      "         440       0.98      0.61      0.75        72\n",
      "         441       1.00      1.00      1.00       100\n",
      "         442       0.00      0.00      0.00         1\n",
      "         443       1.00      0.14      0.25         7\n",
      "         444       0.00      0.00      0.00         4\n",
      "         445       1.00      0.50      0.67         2\n",
      "         446       1.00      1.00      1.00         9\n",
      "         447       1.00      1.00      1.00         2\n",
      "         448       1.00      1.00      1.00         2\n",
      "         449       1.00      1.00      1.00         7\n",
      "         450       1.00      1.00      1.00         5\n",
      "         451       1.00      1.00      1.00         1\n",
      "         452       1.00      1.00      1.00         6\n",
      "         453       1.00      0.33      0.50         3\n",
      "         454       1.00      0.88      0.93        56\n",
      "         455       1.00      0.84      0.91        19\n",
      "         456       0.88      0.36      0.51        42\n",
      "         457       0.00      0.00      0.00         1\n",
      "         458       1.00      0.60      0.75         5\n",
      "         459       1.00      1.00      1.00        51\n",
      "         460       0.79      0.89      0.84       680\n",
      "         461       0.00      0.00      0.00         4\n",
      "         462       1.00      0.95      0.98        22\n",
      "         463       1.00      1.00      1.00         6\n",
      "         464       0.00      0.00      0.00         4\n",
      "         465       1.00      1.00      1.00         6\n",
      "         466       1.00      0.40      0.57         5\n",
      "         467       1.00      0.94      0.96       263\n",
      "         468       0.00      0.00      0.00         1\n",
      "         469       0.00      0.00      0.00         4\n",
      "         470       0.00      0.00      0.00         2\n",
      "         471       1.00      1.00      1.00         1\n",
      "         472       0.00      0.00      0.00         8\n",
      "         473       1.00      0.33      0.50        39\n",
      "         474       1.00      1.00      1.00         1\n",
      "         475       1.00      0.89      0.94         9\n",
      "         476       1.00      1.00      1.00         3\n",
      "         477       0.88      0.68      0.76        31\n",
      "         478       1.00      0.64      0.78       117\n",
      "         479       0.98      1.00      0.99       268\n",
      "         480       0.79      0.82      0.80      1157\n",
      "\n",
      "    accuracy                           0.89     39942\n",
      "   macro avg       0.77      0.67      0.70     39942\n",
      "weighted avg       0.89      0.89      0.88     39942\n",
      "\n"
     ]
    },
    {
     "name": "stderr",
     "output_type": "stream",
     "text": [
      "/Users/yashagarwal/miniconda3/envs/ML/lib/python3.11/site-packages/sklearn/metrics/_classification.py:1469: UndefinedMetricWarning: Precision and F-score are ill-defined and being set to 0.0 in labels with no predicted samples. Use `zero_division` parameter to control this behavior.\n",
      "  _warn_prf(average, modifier, msg_start, len(result))\n",
      "/Users/yashagarwal/miniconda3/envs/ML/lib/python3.11/site-packages/sklearn/metrics/_classification.py:1469: UndefinedMetricWarning: Precision and F-score are ill-defined and being set to 0.0 in labels with no predicted samples. Use `zero_division` parameter to control this behavior.\n",
      "  _warn_prf(average, modifier, msg_start, len(result))\n",
      "/Users/yashagarwal/miniconda3/envs/ML/lib/python3.11/site-packages/sklearn/metrics/_classification.py:1469: UndefinedMetricWarning: Precision and F-score are ill-defined and being set to 0.0 in labels with no predicted samples. Use `zero_division` parameter to control this behavior.\n",
      "  _warn_prf(average, modifier, msg_start, len(result))\n"
     ]
    }
   ],
   "source": [
    "# Multinomial Naive Bayes with Bag of Words\n",
    "\n",
    "\n",
    "model = make_pipeline(CountVectorizer(), MultinomialNB())\n",
    "\n",
    "model.fit(X_train, y_train)\n",
    "\n",
    "y_pred = model.predict(X_test)\n",
    "\n",
    "accuracy = accuracy_score(y_test, y_pred)\n",
    "print(f\"MultinomialNB with Bag of Words accuracy: {accuracy:.3f}\")\n",
    "# Print classification report\n",
    "print(\"Classification Report:\\n\", classification_report(y_test, y_pred))"
   ]
  },
  {
   "cell_type": "code",
   "execution_count": 65,
   "metadata": {
    "ExecuteTime": {
     "end_time": "2024-11-11T11:06:28.599770Z",
     "start_time": "2024-11-11T11:06:14.622489Z"
    },
    "colab": {
     "base_uri": "https://localhost:8080/"
    },
    "id": "j90GrNL8dc3u",
    "outputId": "a1dd693f-c0ab-43c8-eada-d80b751c52a3"
   },
   "outputs": [
    {
     "name": "stdout",
     "output_type": "stream",
     "text": [
      "Cross-Validation Scores:[0.87537743 0.87295888 0.87152986]\n",
      "Mean Accuracy: 0.87\n"
     ]
    }
   ],
   "source": [
    "\n",
    "cv_scores = cross_val_score(model, X, y_encoded, cv=StratifiedKFold(n_splits=3, shuffle=True), scoring='accuracy')\n",
    "\n",
    "print(f\"Cross-Validation Scores:{cv_scores}\")\n",
    "\n",
    "print(f\"Mean Accuracy: {np.mean(cv_scores):.2f}\")"
   ]
  },
  {
   "cell_type": "code",
   "execution_count": 66,
   "metadata": {
    "ExecuteTime": {
     "end_time": "2024-11-11T11:31:48.400633Z",
     "start_time": "2024-11-11T11:09:10.403535Z"
    },
    "colab": {
     "base_uri": "https://localhost:8080/"
    },
    "id": "Jn9GIgYXdlTH",
    "outputId": "1e8fb22a-8aec-4c1e-d9d4-2014dc095b57"
   },
   "outputs": [
    {
     "name": "stdout",
     "output_type": "stream",
     "text": [
      "Fitting 5 folds for each of 5 candidates, totalling 25 fits\n"
     ]
    },
    {
     "data": {
      "text/html": [
       "<style>#sk-container-id-4 {color: black;}#sk-container-id-4 pre{padding: 0;}#sk-container-id-4 div.sk-toggleable {background-color: white;}#sk-container-id-4 label.sk-toggleable__label {cursor: pointer;display: block;width: 100%;margin-bottom: 0;padding: 0.3em;box-sizing: border-box;text-align: center;}#sk-container-id-4 label.sk-toggleable__label-arrow:before {content: \"▸\";float: left;margin-right: 0.25em;color: #696969;}#sk-container-id-4 label.sk-toggleable__label-arrow:hover:before {color: black;}#sk-container-id-4 div.sk-estimator:hover label.sk-toggleable__label-arrow:before {color: black;}#sk-container-id-4 div.sk-toggleable__content {max-height: 0;max-width: 0;overflow: hidden;text-align: left;background-color: #f0f8ff;}#sk-container-id-4 div.sk-toggleable__content pre {margin: 0.2em;color: black;border-radius: 0.25em;background-color: #f0f8ff;}#sk-container-id-4 input.sk-toggleable__control:checked~div.sk-toggleable__content {max-height: 200px;max-width: 100%;overflow: auto;}#sk-container-id-4 input.sk-toggleable__control:checked~label.sk-toggleable__label-arrow:before {content: \"▾\";}#sk-container-id-4 div.sk-estimator input.sk-toggleable__control:checked~label.sk-toggleable__label {background-color: #d4ebff;}#sk-container-id-4 div.sk-label input.sk-toggleable__control:checked~label.sk-toggleable__label {background-color: #d4ebff;}#sk-container-id-4 input.sk-hidden--visually {border: 0;clip: rect(1px 1px 1px 1px);clip: rect(1px, 1px, 1px, 1px);height: 1px;margin: -1px;overflow: hidden;padding: 0;position: absolute;width: 1px;}#sk-container-id-4 div.sk-estimator {font-family: monospace;background-color: #f0f8ff;border: 1px dotted black;border-radius: 0.25em;box-sizing: border-box;margin-bottom: 0.5em;}#sk-container-id-4 div.sk-estimator:hover {background-color: #d4ebff;}#sk-container-id-4 div.sk-parallel-item::after {content: \"\";width: 100%;border-bottom: 1px solid gray;flex-grow: 1;}#sk-container-id-4 div.sk-label:hover label.sk-toggleable__label {background-color: #d4ebff;}#sk-container-id-4 div.sk-serial::before {content: \"\";position: absolute;border-left: 1px solid gray;box-sizing: border-box;top: 0;bottom: 0;left: 50%;z-index: 0;}#sk-container-id-4 div.sk-serial {display: flex;flex-direction: column;align-items: center;background-color: white;padding-right: 0.2em;padding-left: 0.2em;position: relative;}#sk-container-id-4 div.sk-item {position: relative;z-index: 1;}#sk-container-id-4 div.sk-parallel {display: flex;align-items: stretch;justify-content: center;background-color: white;position: relative;}#sk-container-id-4 div.sk-item::before, #sk-container-id-4 div.sk-parallel-item::before {content: \"\";position: absolute;border-left: 1px solid gray;box-sizing: border-box;top: 0;bottom: 0;left: 50%;z-index: -1;}#sk-container-id-4 div.sk-parallel-item {display: flex;flex-direction: column;z-index: 1;position: relative;background-color: white;}#sk-container-id-4 div.sk-parallel-item:first-child::after {align-self: flex-end;width: 50%;}#sk-container-id-4 div.sk-parallel-item:last-child::after {align-self: flex-start;width: 50%;}#sk-container-id-4 div.sk-parallel-item:only-child::after {width: 0;}#sk-container-id-4 div.sk-dashed-wrapped {border: 1px dashed gray;margin: 0 0.4em 0.5em 0.4em;box-sizing: border-box;padding-bottom: 0.4em;background-color: white;}#sk-container-id-4 div.sk-label label {font-family: monospace;font-weight: bold;display: inline-block;line-height: 1.2em;}#sk-container-id-4 div.sk-label-container {text-align: center;}#sk-container-id-4 div.sk-container {/* jupyter's `normalize.less` sets `[hidden] { display: none; }` but bootstrap.min.css set `[hidden] { display: none !important; }` so we also need the `!important` here to be able to override the default hidden behavior on the sphinx rendered scikit-learn.org. See: https://github.com/scikit-learn/scikit-learn/issues/21755 */display: inline-block !important;position: relative;}#sk-container-id-4 div.sk-text-repr-fallback {display: none;}</style><div id=\"sk-container-id-4\" class=\"sk-top-container\"><div class=\"sk-text-repr-fallback\"><pre>RandomizedSearchCV(cv=StratifiedKFold(n_splits=5, random_state=42, shuffle=True),\n",
       "                   estimator=Pipeline(steps=[(&#x27;countvectorizer&#x27;,\n",
       "                                              CountVectorizer(max_features=10000)),\n",
       "                                             (&#x27;multinomialnb&#x27;,\n",
       "                                              MultinomialNB(alpha=1.0391480194088836))]),\n",
       "                   n_iter=5, n_jobs=1,\n",
       "                   param_distributions={&#x27;countvectorizer__max_features&#x27;: [5000,\n",
       "                                                                          10000,\n",
       "                                                                          None],\n",
       "                                        &#x27;countvectorizer__ngram_range&#x27;: [(1, 1),\n",
       "                                                                         (1,\n",
       "                                                                          2)],\n",
       "                                        &#x27;multinomialnb__alpha&#x27;: &lt;scipy.stats._distn_infrastructure.rv_continuous_frozen object at 0x149f59650&gt;},\n",
       "                   scoring=&#x27;accuracy&#x27;, verbose=1)</pre><b>In a Jupyter environment, please rerun this cell to show the HTML representation or trust the notebook. <br />On GitHub, the HTML representation is unable to render, please try loading this page with nbviewer.org.</b></div><div class=\"sk-container\" hidden><div class=\"sk-item sk-dashed-wrapped\"><div class=\"sk-label-container\"><div class=\"sk-label sk-toggleable\"><input class=\"sk-toggleable__control sk-hidden--visually\" id=\"sk-estimator-id-7\" type=\"checkbox\" ><label for=\"sk-estimator-id-7\" class=\"sk-toggleable__label sk-toggleable__label-arrow\">RandomizedSearchCV</label><div class=\"sk-toggleable__content\"><pre>RandomizedSearchCV(cv=StratifiedKFold(n_splits=5, random_state=42, shuffle=True),\n",
       "                   estimator=Pipeline(steps=[(&#x27;countvectorizer&#x27;,\n",
       "                                              CountVectorizer(max_features=10000)),\n",
       "                                             (&#x27;multinomialnb&#x27;,\n",
       "                                              MultinomialNB(alpha=1.0391480194088836))]),\n",
       "                   n_iter=5, n_jobs=1,\n",
       "                   param_distributions={&#x27;countvectorizer__max_features&#x27;: [5000,\n",
       "                                                                          10000,\n",
       "                                                                          None],\n",
       "                                        &#x27;countvectorizer__ngram_range&#x27;: [(1, 1),\n",
       "                                                                         (1,\n",
       "                                                                          2)],\n",
       "                                        &#x27;multinomialnb__alpha&#x27;: &lt;scipy.stats._distn_infrastructure.rv_continuous_frozen object at 0x149f59650&gt;},\n",
       "                   scoring=&#x27;accuracy&#x27;, verbose=1)</pre></div></div></div><div class=\"sk-parallel\"><div class=\"sk-parallel-item\"><div class=\"sk-item\"><div class=\"sk-label-container\"><div class=\"sk-label sk-toggleable\"><input class=\"sk-toggleable__control sk-hidden--visually\" id=\"sk-estimator-id-8\" type=\"checkbox\" ><label for=\"sk-estimator-id-8\" class=\"sk-toggleable__label sk-toggleable__label-arrow\">estimator: Pipeline</label><div class=\"sk-toggleable__content\"><pre>Pipeline(steps=[(&#x27;countvectorizer&#x27;, CountVectorizer(max_features=10000)),\n",
       "                (&#x27;multinomialnb&#x27;, MultinomialNB(alpha=1.0391480194088836))])</pre></div></div></div><div class=\"sk-serial\"><div class=\"sk-item\"><div class=\"sk-serial\"><div class=\"sk-item\"><div class=\"sk-estimator sk-toggleable\"><input class=\"sk-toggleable__control sk-hidden--visually\" id=\"sk-estimator-id-9\" type=\"checkbox\" ><label for=\"sk-estimator-id-9\" class=\"sk-toggleable__label sk-toggleable__label-arrow\">CountVectorizer</label><div class=\"sk-toggleable__content\"><pre>CountVectorizer(max_features=10000)</pre></div></div></div><div class=\"sk-item\"><div class=\"sk-estimator sk-toggleable\"><input class=\"sk-toggleable__control sk-hidden--visually\" id=\"sk-estimator-id-10\" type=\"checkbox\" ><label for=\"sk-estimator-id-10\" class=\"sk-toggleable__label sk-toggleable__label-arrow\">MultinomialNB</label><div class=\"sk-toggleable__content\"><pre>MultinomialNB(alpha=1.0391480194088836)</pre></div></div></div></div></div></div></div></div></div></div></div></div>"
      ],
      "text/plain": [
       "RandomizedSearchCV(cv=StratifiedKFold(n_splits=5, random_state=42, shuffle=True),\n",
       "                   estimator=Pipeline(steps=[('countvectorizer',\n",
       "                                              CountVectorizer(max_features=10000)),\n",
       "                                             ('multinomialnb',\n",
       "                                              MultinomialNB(alpha=1.0391480194088836))]),\n",
       "                   n_iter=5, n_jobs=1,\n",
       "                   param_distributions={'countvectorizer__max_features': [5000,\n",
       "                                                                          10000,\n",
       "                                                                          None],\n",
       "                                        'countvectorizer__ngram_range': [(1, 1),\n",
       "                                                                         (1,\n",
       "                                                                          2)],\n",
       "                                        'multinomialnb__alpha': <scipy.stats._distn_infrastructure.rv_continuous_frozen object at 0x149f59650>},\n",
       "                   scoring='accuracy', verbose=1)"
      ]
     },
     "execution_count": 66,
     "metadata": {},
     "output_type": "execute_result"
    }
   ],
   "source": [
    "from sklearn.model_selection import RandomizedSearchCV\n",
    "from scipy.stats import uniform, randint\n",
    "\n",
    "param_dist = {\n",
    "    'countvectorizer__max_features': [5000, 10000, None],\n",
    "    'countvectorizer__ngram_range': [(1, 1), (1, 2)],\n",
    "    'multinomialnb__alpha': uniform(0.1, 2.0)  # Example range for alpha\n",
    "}\n",
    "cv = StratifiedKFold(n_splits=5, shuffle=True, random_state=42)\n",
    "\n",
    "random_search = RandomizedSearchCV(model, param_distributions=param_dist, n_iter=5, scoring='accuracy', cv=cv, verbose=1, n_jobs=1)\n",
    "random_search.fit(X, y_encoded)"
   ]
  },
  {
   "cell_type": "code",
   "execution_count": 67,
   "metadata": {
    "ExecuteTime": {
     "end_time": "2024-11-11T11:32:30.885363Z",
     "start_time": "2024-11-11T11:32:30.871028Z"
    },
    "id": "RjAq2l_ydnWf"
   },
   "outputs": [
    {
     "name": "stdout",
     "output_type": "stream",
     "text": [
      "Best Parameters: {'countvectorizer__max_features': None, 'countvectorizer__ngram_range': (1, 2), 'multinomialnb__alpha': 1.4971667929176662}\n"
     ]
    }
   ],
   "source": [
    "best_params = random_search.best_params_\n",
    "print(\"Best Parameters:\", best_params)"
   ]
  },
  {
   "cell_type": "code",
   "execution_count": 80,
   "metadata": {},
   "outputs": [],
   "source": [
    "y_pred_random = random_search.predict(X_test)"
   ]
  },
  {
   "cell_type": "code",
   "execution_count": 68,
   "metadata": {
    "ExecuteTime": {
     "end_time": "2024-11-11T11:38:13.599471Z",
     "start_time": "2024-11-11T11:32:33.073937Z"
    },
    "id": "U1M8t94QdpWD"
   },
   "outputs": [
    {
     "name": "stdout",
     "output_type": "stream",
     "text": [
      "Best Model Accuracy: 0.942\n"
     ]
    }
   ],
   "source": [
    "best_model = random_search.best_estimator_\n",
    "\n",
    "best_model.fit(X_train, y_train)\n",
    "\n",
    "y_pred_best = best_model.predict(X_test)\n",
    "\n",
    "accuracy = accuracy_score(y_test, y_pred_best)\n",
    "\n",
    "print(f\"Best Model Accuracy: {accuracy:.3f}\")"
   ]
  },
  {
   "cell_type": "code",
   "execution_count": 69,
   "metadata": {
    "ExecuteTime": {
     "end_time": "2024-11-11T11:38:13.659443Z",
     "start_time": "2024-11-11T11:38:13.614517Z"
    },
    "id": "75TeAe5Fdrn2"
   },
   "outputs": [],
   "source": [
    "# Inverse transform the predicted labels to get the original class labels\n",
    "predicted_labels_original = le.inverse_transform(y_pred_best)"
   ]
  },
  {
   "cell_type": "code",
   "execution_count": 70,
   "metadata": {
    "ExecuteTime": {
     "end_time": "2024-11-11T11:38:13.688877Z",
     "start_time": "2024-11-11T11:38:13.659973Z"
    },
    "id": "zZBY2l05dtq0"
   },
   "outputs": [
    {
     "name": "stdout",
     "output_type": "stream",
     "text": [
      "Correct Predictions: 37643, Wrong Predictions: 2299\n"
     ]
    }
   ],
   "source": [
    "correct_predictions = sum(y_test == y_pred_best)\n",
    "wrong_predictions = len(y_test) - correct_predictions\n",
    "print(f'Correct Predictions: {correct_predictions}, Wrong Predictions: {wrong_predictions}')"
   ]
  },
  {
   "cell_type": "code",
   "execution_count": 71,
   "metadata": {
    "ExecuteTime": {
     "end_time": "2024-11-11T11:38:14.794931Z",
     "start_time": "2024-11-11T11:38:13.691327Z"
    },
    "id": "EnaR7SKKdvWb"
   },
   "outputs": [
    {
     "data": {
      "image/png": "[encoded data removed]",
      "text/plain": [
       "<Figure size 640x480 with 1 Axes>"
      ]
     },
     "metadata": {},
     "output_type": "display_data"
    }
   ],
   "source": [
    "labels = ['Correct Predictions', 'Wrong Predictions']\n",
    "values = [correct_predictions, wrong_predictions]\n",
    "\n",
    "plt.bar(labels, values, color=['green', 'red'])\n",
    "plt.title('Correct vs Wrong Predictions')\n",
    "plt.xlabel('Prediction Outcome')\n",
    "plt.ylabel('Number of Samples')\n",
    "plt.show()"
   ]
  },
  {
   "cell_type": "code",
   "execution_count": 78,
   "metadata": {},
   "outputs": [
    {
     "name": "stdout",
     "output_type": "stream",
     "text": [
      "MULTINOMIAL NAIVE BAYES MODEL\n",
      "\n",
      "\n",
      "Accuracy: 0.89\n",
      "\n",
      "Precision: 0.90\n",
      "\n",
      "Recall: 0.89\n",
      "\n",
      "F1-Score: 0.88\n",
      "\n"
     ]
    }
   ],
   "source": [
    "print(\"MULTINOMIAL NAIVE BAYES MODEL\\n\\n\")\n",
    "\n",
    "mnb_accuracy = accuracy_score(y_test, y_pred)\n",
    "print(f\"Accuracy: {mnb_accuracy:.2f}\\n\")\n",
    "\n",
    "# Precision\n",
    "mnb_precision = precision_score(y_test, y_pred, average='weighted', zero_division=1)\n",
    "print(f\"Precision: {mnb_precision:.2f}\\n\")\n",
    "\n",
    "# Recall\n",
    "mnb_recall = recall_score(y_test, y_pred, average='weighted', zero_division=1)\n",
    "print(f\"Recall: {mnb_recall:.2f}\\n\")\n",
    "\n",
    "# F1-Score\n",
    "mnb_f1 = f1_score(y_test, y_pred, average='weighted', zero_division=1)\n",
    "print(f\"F1-Score: {mnb_f1:.2f}\\n\")\n",
    "\n",
    "# # Log Loss\n",
    "# mnb_logloss = log_loss(y_test, model.predict_proba(X_test), labels=np.unique(y_test))\n",
    "# print(f\"Log Loss: {mnb_logloss:.2f}\\n\")\n"
   ]
  },
  {
   "cell_type": "code",
   "execution_count": 81,
   "metadata": {},
   "outputs": [
    {
     "name": "stdout",
     "output_type": "stream",
     "text": [
      "RANDOMIZED SEARCH MODEL\n",
      "\n",
      "\n",
      "Accuracy: 0.94\n",
      "\n",
      "Precision: 0.95\n",
      "\n",
      "Recall: 0.94\n",
      "\n",
      "F1-Score: 0.93\n",
      "\n"
     ]
    }
   ],
   "source": [
    "print(\"RANDOMIZED SEARCH MODEL\\n\\n\")\n",
    "\n",
    "rnd_accuracy = accuracy_score(y_test, y_pred_random)\n",
    "print(f\"Accuracy: {rnd_accuracy:.2f}\\n\")\n",
    "\n",
    "# Precision\n",
    "rnd_precision = precision_score(y_test, y_pred_random, average='weighted', zero_division=1)\n",
    "print(f\"Precision: {rnd_precision:.2f}\\n\")\n",
    "\n",
    "# Recall\n",
    "rnd_recall = recall_score(y_test, y_pred_random, average='weighted', zero_division=1)\n",
    "print(f\"Recall: {rnd_recall:.2f}\\n\")\n",
    "\n",
    "# F1-Score\n",
    "rnd_f1 = f1_score(y_test, y_pred_random, average='weighted', zero_division=1)\n",
    "print(f\"F1-Score: {rnd_f1:.2f}\\n\")\n",
    "\n",
    "# # Log Loss\n",
    "# mnb_logloss = log_loss(y_test, model.predict_proba(X_test), labels=np.unique(y_test))\n",
    "# print(f\"Log Loss: {mnb_logloss:.2f}\\n\")\n"
   ]
  },
  {
   "cell_type": "code",
   "execution_count": 82,
   "metadata": {},
   "outputs": [
    {
     "name": "stdout",
     "output_type": "stream",
     "text": [
      "BEST MODEL\n",
      "\n",
      "\n",
      "Accuracy: 0.94\n",
      "\n",
      "Precision: 0.95\n",
      "\n",
      "Recall: 0.94\n",
      "\n",
      "F1-Score: 0.93\n",
      "\n"
     ]
    }
   ],
   "source": [
    "print(\"BEST MODEL\\n\\n\")\n",
    "\n",
    "best_accuracy = accuracy_score(y_test, y_pred_best)\n",
    "print(f\"Accuracy: {best_accuracy:.2f}\\n\")\n",
    "\n",
    "# Precision\n",
    "best_precision = precision_score(y_test, y_pred_best, average='weighted', zero_division=1)\n",
    "print(f\"Precision: {best_precision:.2f}\\n\")\n",
    "\n",
    "# Recall\n",
    "best_recall = recall_score(y_test, y_pred_best, average='weighted', zero_division=1)\n",
    "print(f\"Recall: {best_recall:.2f}\\n\")\n",
    "\n",
    "# F1-Score\n",
    "best_f1 = f1_score(y_test, y_pred_best, average='weighted', zero_division=1)\n",
    "print(f\"F1-Score: {best_f1:.2f}\\n\")\n",
    "\n",
    "# # Log Loss\n",
    "# mnb_logloss = log_loss(y_test, model.predict_proba(X_test), labels=np.unique(y_test))\n",
    "# print(f\"Log Loss: {mnb_logloss:.2f}\\n\")\n"
   ]
  },
  {
   "cell_type": "code",
   "execution_count": 83,
   "metadata": {},
   "outputs": [],
   "source": [
    "metrics = []\n",
    "\n",
    "metrics.append({\n",
    "    'Model': 'MultiNomial Naive Bayes',\n",
    "    'Accuracy': round(mnb_accuracy * 100, 2),\n",
    "    'Precision': round(mnb_precision, 2),\n",
    "    'Recall': round(mnb_recall, 2),\n",
    "    'F1-Score': round(mnb_f1, 2),\n",
    "})\n",
    "\n",
    "metrics.append({\n",
    "    'Model': 'Randomized Search',\n",
    "    'Accuracy': round(rnd_accuracy * 100, 2),\n",
    "    'Precision': round(rnd_precision, 2),\n",
    "    'Recall': round(rnd_recall, 2),\n",
    "    'F1-Score': round(rnd_f1, 2),\n",
    "})\n",
    "\n",
    "metrics.append({\n",
    "    'Model': 'Randomized Search (Best Estimator)',\n",
    "    'Accuracy': round(best_accuracy * 100, 2),\n",
    "    'Precision': round(best_precision, 2),\n",
    "    'Recall': round(best_recall, 2),\n",
    "    'F1-Score': round(best_f1, 2),\n",
    "})\n",
    "\n",
    "metricsDF = pd.DataFrame(metrics)\n"
   ]
  },
  {
   "cell_type": "code",
   "execution_count": 84,
   "metadata": {},
   "outputs": [
    {
     "data": {
      "text/html": [
       "<div>\n",
       "<style scoped>\n",
       "    .dataframe tbody tr th:only-of-type {\n",
       "        vertical-align: middle;\n",
       "    }\n",
       "\n",
       "    .dataframe tbody tr th {\n",
       "        vertical-align: top;\n",
       "    }\n",
       "\n",
       "    .dataframe thead th {\n",
       "        text-align: right;\n",
       "    }\n",
       "</style>\n",
       "<table border=\"1\" class=\"dataframe\">\n",
       "  <thead>\n",
       "    <tr style=\"text-align: right;\">\n",
       "      <th></th>\n",
       "      <th>Model</th>\n",
       "      <th>Accuracy</th>\n",
       "      <th>Precision</th>\n",
       "      <th>Recall</th>\n",
       "      <th>F1-Score</th>\n",
       "    </tr>\n",
       "  </thead>\n",
       "  <tbody>\n",
       "    <tr>\n",
       "      <th>0</th>\n",
       "      <td>MultiNomial Naive Bayes</td>\n",
       "      <td>89.21</td>\n",
       "      <td>0.90</td>\n",
       "      <td>0.89</td>\n",
       "      <td>0.88</td>\n",
       "    </tr>\n",
       "    <tr>\n",
       "      <th>1</th>\n",
       "      <td>Randomized Search</td>\n",
       "      <td>94.24</td>\n",
       "      <td>0.95</td>\n",
       "      <td>0.94</td>\n",
       "      <td>0.93</td>\n",
       "    </tr>\n",
       "    <tr>\n",
       "      <th>2</th>\n",
       "      <td>Randomized Search (Best Estimator)</td>\n",
       "      <td>94.24</td>\n",
       "      <td>0.95</td>\n",
       "      <td>0.94</td>\n",
       "      <td>0.93</td>\n",
       "    </tr>\n",
       "  </tbody>\n",
       "</table>\n",
       "</div>"
      ],
      "text/plain": [
       "                                Model  Accuracy  Precision  Recall  F1-Score\n",
       "0             MultiNomial Naive Bayes     89.21       0.90    0.89      0.88\n",
       "1                   Randomized Search     94.24       0.95    0.94      0.93\n",
       "2  Randomized Search (Best Estimator)     94.24       0.95    0.94      0.93"
      ]
     },
     "execution_count": 84,
     "metadata": {},
     "output_type": "execute_result"
    }
   ],
   "source": [
    "metricsDF"
   ]
  },
  {
   "cell_type": "code",
   "execution_count": 52,
   "metadata": {
    "ExecuteTime": {
     "end_time": "2024-11-11T11:38:15.011444Z",
     "start_time": "2024-11-11T11:38:14.808458Z"
    },
    "id": "xArP4bjqdw-U"
   },
   "outputs": [
    {
     "data": {
      "text/html": [
       "<div>\n",
       "<style scoped>\n",
       "    .dataframe tbody tr th:only-of-type {\n",
       "        vertical-align: middle;\n",
       "    }\n",
       "\n",
       "    .dataframe tbody tr th {\n",
       "        vertical-align: top;\n",
       "    }\n",
       "\n",
       "    .dataframe thead th {\n",
       "        text-align: right;\n",
       "    }\n",
       "</style>\n",
       "<table border=\"1\" class=\"dataframe\">\n",
       "  <thead>\n",
       "    <tr style=\"text-align: right;\">\n",
       "      <th></th>\n",
       "      <th>Content</th>\n",
       "      <th>Predicted_Labels</th>\n",
       "      <th>Actual_Labels</th>\n",
       "    </tr>\n",
       "  </thead>\n",
       "  <tbody>\n",
       "    <tr>\n",
       "      <th>23219</th>\n",
       "      <td>congress sandeep dikshit monday asked aimim ch...</td>\n",
       "      <td>['politics']</td>\n",
       "      <td>['politics']</td>\n",
       "    </tr>\n",
       "    <tr>\n",
       "      <th>48597</th>\n",
       "      <td>square ceo alyssa henry stepping nine years pa...</td>\n",
       "      <td>['business', 'startup']</td>\n",
       "      <td>['business', 'startup']</td>\n",
       "    </tr>\n",
       "    <tr>\n",
       "      <th>162019</th>\n",
       "      <td>every womans menstruation cycle reflects certa...</td>\n",
       "      <td>['Health___Fitness']</td>\n",
       "      <td>['Health___Fitness']</td>\n",
       "    </tr>\n",
       "    <tr>\n",
       "      <th>35753</th>\n",
       "      <td>jonty rhodes superman runout inzamamulhaq worl...</td>\n",
       "      <td>['sports', 'ODI_World_Cup_2023']</td>\n",
       "      <td>['sports', 'ODI_World_Cup_2023']</td>\n",
       "    </tr>\n",
       "    <tr>\n",
       "      <th>108844</th>\n",
       "      <td>cartrade technologies reported yoy surge profi...</td>\n",
       "      <td>['business', 'startup', 'technology']</td>\n",
       "      <td>['business', 'startup', 'technology']</td>\n",
       "    </tr>\n",
       "  </tbody>\n",
       "</table>\n",
       "</div>"
      ],
      "text/plain": [
       "                                                  Content  \\\n",
       "23219   congress sandeep dikshit monday asked aimim ch...   \n",
       "48597   square ceo alyssa henry stepping nine years pa...   \n",
       "162019  every womans menstruation cycle reflects certa...   \n",
       "35753   jonty rhodes superman runout inzamamulhaq worl...   \n",
       "108844  cartrade technologies reported yoy surge profi...   \n",
       "\n",
       "                             Predicted_Labels  \\\n",
       "23219                            ['politics']   \n",
       "48597                 ['business', 'startup']   \n",
       "162019                   ['Health___Fitness']   \n",
       "35753        ['sports', 'ODI_World_Cup_2023']   \n",
       "108844  ['business', 'startup', 'technology']   \n",
       "\n",
       "                                Actual_Labels  \n",
       "23219                            ['politics']  \n",
       "48597                 ['business', 'startup']  \n",
       "162019                   ['Health___Fitness']  \n",
       "35753        ['sports', 'ODI_World_Cup_2023']  \n",
       "108844  ['business', 'startup', 'technology']  "
      ]
     },
     "execution_count": 52,
     "metadata": {},
     "output_type": "execute_result"
    }
   ],
   "source": [
    "#final dataframe with text and predicted labels\n",
    "final_df = pd.DataFrame({'Content': X_test, 'Predicted_Labels': predicted_labels_original, 'Actual_Labels': le.inverse_transform(y_test)})\n",
    "\n",
    "final_df.head()"
   ]
  },
  {
   "cell_type": "code",
   "execution_count": 53,
   "metadata": {
    "ExecuteTime": {
     "end_time": "2024-11-11T11:38:15.386417Z",
     "start_time": "2024-11-11T11:38:15.012010Z"
    },
    "id": "I_wX2s-Nd1QD"
   },
   "outputs": [],
   "source": [
    "final_df.to_csv('finalDF.csv')"
   ]
  },
  {
   "cell_type": "code",
   "execution_count": 54,
   "metadata": {
    "ExecuteTime": {
     "end_time": "2024-11-11T11:08:05.139941Z",
     "start_time": "2024-11-11T11:08:04.309716Z"
    },
    "id": "DQ1pXmcvd4Mn"
   },
   "outputs": [],
   "source": [
    "import joblib\n",
    "\n",
    "# Save the trained pipeline model\n",
    "# joblib.dump(model, 'model.pkl')"
   ]
  },
  {
   "cell_type": "code",
   "execution_count": 55,
   "metadata": {
    "ExecuteTime": {
     "end_time": "2024-11-11T11:39:01.131709Z",
     "start_time": "2024-11-11T11:38:34.961385Z"
    },
    "id": "vtCYnVr4gZb3"
   },
   "outputs": [
    {
     "data": {
      "text/plain": [
       "['random_search.pkl']"
      ]
     },
     "execution_count": 55,
     "metadata": {},
     "output_type": "execute_result"
    }
   ],
   "source": [
    "# random_search.save('random_search.h5')\n",
    "joblib.dump(random_search, 'random_search.pkl')"
   ]
  },
  {
   "cell_type": "code",
   "execution_count": 56,
   "metadata": {
    "ExecuteTime": {
     "end_time": "2024-11-11T11:39:20.829298Z",
     "start_time": "2024-11-11T11:39:10.626305Z"
    },
    "id": "GJFrHy8JgejQ"
   },
   "outputs": [
    {
     "data": {
      "text/plain": [
       "['best_model.pkl']"
      ]
     },
     "execution_count": 56,
     "metadata": {},
     "output_type": "execute_result"
    }
   ],
   "source": [
    "# best_model.save('best_model.h5')\n",
    "joblib.dump(best_model, 'best_model.pkl')"
   ]
  },
  {
   "cell_type": "code",
   "execution_count": 61,
   "metadata": {
    "ExecuteTime": {
     "end_time": "2024-11-12T09:57:16.626811Z",
     "start_time": "2024-11-12T09:57:16.569499Z"
    },
    "id": "5NmGSb-pgict"
   },
   "outputs": [
    {
     "name": "stdout",
     "output_type": "stream",
     "text": [
      "Predicted Category: ['politics']\n"
     ]
    }
   ],
   "source": [
    "\n",
    "# Predict the encoded label\n",
    "predicted_label_encoded = model.predict(X_test)\n",
    "\n",
    "# Decode the label back to the original category name\n",
    "predicted_category = le.inverse_transform(predicted_label_encoded)\n",
    "\n",
    "print(\"Predicted Category:\", predicted_category[0])\n"
   ]
  },
  {
   "cell_type": "code",
   "execution_count": 62,
   "metadata": {
    "ExecuteTime": {
     "end_time": "2024-11-12T09:55:45.156314Z",
     "start_time": "2024-11-12T09:55:45.152179Z"
    }
   },
   "outputs": [
    {
     "name": "stdout",
     "output_type": "stream",
     "text": [
      "['science', 'Health___Fitness']\n"
     ]
    }
   ],
   "source": [
    "print(y[199701])"
   ]
  },
  {
   "cell_type": "code",
   "execution_count": 63,
   "metadata": {
    "ExecuteTime": {
     "end_time": "2024-11-12T09:57:04.631694Z",
     "start_time": "2024-11-12T09:57:04.079828Z"
    }
   },
   "outputs": [
    {
     "data": {
      "text/html": [
       "<style>#sk-container-id-3 {color: black;}#sk-container-id-3 pre{padding: 0;}#sk-container-id-3 div.sk-toggleable {background-color: white;}#sk-container-id-3 label.sk-toggleable__label {cursor: pointer;display: block;width: 100%;margin-bottom: 0;padding: 0.3em;box-sizing: border-box;text-align: center;}#sk-container-id-3 label.sk-toggleable__label-arrow:before {content: \"▸\";float: left;margin-right: 0.25em;color: #696969;}#sk-container-id-3 label.sk-toggleable__label-arrow:hover:before {color: black;}#sk-container-id-3 div.sk-estimator:hover label.sk-toggleable__label-arrow:before {color: black;}#sk-container-id-3 div.sk-toggleable__content {max-height: 0;max-width: 0;overflow: hidden;text-align: left;background-color: #f0f8ff;}#sk-container-id-3 div.sk-toggleable__content pre {margin: 0.2em;color: black;border-radius: 0.25em;background-color: #f0f8ff;}#sk-container-id-3 input.sk-toggleable__control:checked~div.sk-toggleable__content {max-height: 200px;max-width: 100%;overflow: auto;}#sk-container-id-3 input.sk-toggleable__control:checked~label.sk-toggleable__label-arrow:before {content: \"▾\";}#sk-container-id-3 div.sk-estimator input.sk-toggleable__control:checked~label.sk-toggleable__label {background-color: #d4ebff;}#sk-container-id-3 div.sk-label input.sk-toggleable__control:checked~label.sk-toggleable__label {background-color: #d4ebff;}#sk-container-id-3 input.sk-hidden--visually {border: 0;clip: rect(1px 1px 1px 1px);clip: rect(1px, 1px, 1px, 1px);height: 1px;margin: -1px;overflow: hidden;padding: 0;position: absolute;width: 1px;}#sk-container-id-3 div.sk-estimator {font-family: monospace;background-color: #f0f8ff;border: 1px dotted black;border-radius: 0.25em;box-sizing: border-box;margin-bottom: 0.5em;}#sk-container-id-3 div.sk-estimator:hover {background-color: #d4ebff;}#sk-container-id-3 div.sk-parallel-item::after {content: \"\";width: 100%;border-bottom: 1px solid gray;flex-grow: 1;}#sk-container-id-3 div.sk-label:hover label.sk-toggleable__label {background-color: #d4ebff;}#sk-container-id-3 div.sk-serial::before {content: \"\";position: absolute;border-left: 1px solid gray;box-sizing: border-box;top: 0;bottom: 0;left: 50%;z-index: 0;}#sk-container-id-3 div.sk-serial {display: flex;flex-direction: column;align-items: center;background-color: white;padding-right: 0.2em;padding-left: 0.2em;position: relative;}#sk-container-id-3 div.sk-item {position: relative;z-index: 1;}#sk-container-id-3 div.sk-parallel {display: flex;align-items: stretch;justify-content: center;background-color: white;position: relative;}#sk-container-id-3 div.sk-item::before, #sk-container-id-3 div.sk-parallel-item::before {content: \"\";position: absolute;border-left: 1px solid gray;box-sizing: border-box;top: 0;bottom: 0;left: 50%;z-index: -1;}#sk-container-id-3 div.sk-parallel-item {display: flex;flex-direction: column;z-index: 1;position: relative;background-color: white;}#sk-container-id-3 div.sk-parallel-item:first-child::after {align-self: flex-end;width: 50%;}#sk-container-id-3 div.sk-parallel-item:last-child::after {align-self: flex-start;width: 50%;}#sk-container-id-3 div.sk-parallel-item:only-child::after {width: 0;}#sk-container-id-3 div.sk-dashed-wrapped {border: 1px dashed gray;margin: 0 0.4em 0.5em 0.4em;box-sizing: border-box;padding-bottom: 0.4em;background-color: white;}#sk-container-id-3 div.sk-label label {font-family: monospace;font-weight: bold;display: inline-block;line-height: 1.2em;}#sk-container-id-3 div.sk-label-container {text-align: center;}#sk-container-id-3 div.sk-container {/* jupyter's `normalize.less` sets `[hidden] { display: none; }` but bootstrap.min.css set `[hidden] { display: none !important; }` so we also need the `!important` here to be able to override the default hidden behavior on the sphinx rendered scikit-learn.org. See: https://github.com/scikit-learn/scikit-learn/issues/21755 */display: inline-block !important;position: relative;}#sk-container-id-3 div.sk-text-repr-fallback {display: none;}</style><div id=\"sk-container-id-3\" class=\"sk-top-container\"><div class=\"sk-text-repr-fallback\"><pre>LabelEncoder()</pre><b>In a Jupyter environment, please rerun this cell to show the HTML representation or trust the notebook. <br />On GitHub, the HTML representation is unable to render, please try loading this page with nbviewer.org.</b></div><div class=\"sk-container\" hidden><div class=\"sk-item\"><div class=\"sk-estimator sk-toggleable\"><input class=\"sk-toggleable__control sk-hidden--visually\" id=\"sk-estimator-id-6\" type=\"checkbox\" checked><label for=\"sk-estimator-id-6\" class=\"sk-toggleable__label sk-toggleable__label-arrow\">LabelEncoder</label><div class=\"sk-toggleable__content\"><pre>LabelEncoder()</pre></div></div></div></div></div>"
      ],
      "text/plain": [
       "LabelEncoder()"
      ]
     },
     "execution_count": 63,
     "metadata": {},
     "output_type": "execute_result"
    }
   ],
   "source": [
    "model = joblib.load('best_model.pkl')\n",
    "\n",
    "# Recreate and fit the LabelEncoder on the original labels if not saved\n",
    "# Assuming `y` is the original labels in your training data\n",
    "le = LabelEncoder()\n",
    "y = df['category_grouped']   # Assuming this is the original data\n",
    "le.fit(y)"
   ]
  },
  {
   "cell_type": "code",
   "execution_count": null,
   "metadata": {},
   "outputs": [],
   "source": [
    "y"
   ]
  },
  {
   "cell_type": "code",
   "execution_count": null,
   "metadata": {},
   "outputs": [],
   "source": [
    "test_x = \"\"\"With less than a week to go for campaigning to end in Maharashtra, we are well and truly into the last stretch of an Assembly election that, to a large extent, will determine if the Opposition has what it takes to sustain the sense of hope that animated it after the Lok Sabha polls or if the BJP-led NDA will be able to establish that the parliamentary elections were an aberration.\n",
    "\n",
    "For the BJP, both its top two leaders will be in the state. Prime Minister Narendra Modi is scheduled to address public meetings in Chimur (1 pm) in eastern Vidarbha and Solapur (4.15 pm) and Pune (6.30 pm) in western Maharashtra.\n",
    "\n",
    "Like in some other parts of the state, the Mahayuti government is also facing a degree of unrest among farmers in Vidarbha, which is the state’s cotton belt. How the PM tackles this in his speech will be among the things to watch out for as it will send a signal to farmers in the rest of the state dealing with agrarian distress.\n",
    "\n",
    "In western Maharashtra that has 70 Assembly constituencies, the BJP and its Mahayuti allies will look to minimise any damage in what is essentially considered an NCP-Congress stronghold. Here, the BJP is looking to strategically deploy the PM to paper over any cracks in its organisation at the ground level.\n",
    "\n",
    "The PM’s second-in-command and Union Home Minister Amit Shah will start his day in Jharkhand’s Dhanbad district by addressing rallies in Jharia Assembly constituency (11.30 am) and Baghmara Assembly seat (1.15 pm) before flying to Maharashtra to address public meetings in Ghatkopar East in suburban Mumbai (5.30 pm) and Borivali (7.30 pm).\"\"\""
   ]
  },
  {
   "cell_type": "code",
   "execution_count": null,
   "metadata": {},
   "outputs": [],
   "source": [
    "print(has_emoji(test_x))"
   ]
  },
  {
   "cell_type": "code",
   "execution_count": null,
   "metadata": {},
   "outputs": [],
   "source": [
    "test_x = tokenize_text(test_x)"
   ]
  },
  {
   "cell_type": "code",
   "execution_count": null,
   "metadata": {},
   "outputs": [],
   "source": [
    "print(test_x)"
   ]
  },
  {
   "cell_type": "code",
   "execution_count": null,
   "metadata": {},
   "outputs": [],
   "source": [
    "categories = np.array(['national', 'entertainment', 'politics', 'world', 'technology',\n",
    "       'business', 'sports', 'Health___Fitness', 'startup', 'automobile',\n",
    "       'fashion', 'science', 'education', 'travel', 'miscellaneous',\n",
    "       'hatke', 'Russia-Ukraine_Conflict', 'Coronavirus',\n",
    "       'Asian_Games_2022', 'ODI_World_Cup_2023', 'Israel-Hamas_War',\n",
    "       'myfeed', 'metaverse', 'policy', 'facts', 'Hockey_World_Cup_2023',\n",
    "       'Feel_Good_Stories'], dtype='<U23')\n"
   ]
  },
  {
   "cell_type": "code",
   "execution_count": null,
   "metadata": {},
   "outputs": [],
   "source": [
    "y.to_csv('trans_data.csv')"
   ]
  },
  {
   "cell_type": "code",
   "execution_count": null,
   "metadata": {},
   "outputs": [],
   "source": [
    "y = pd.read_csv('trans_data.csv')"
   ]
  },
  {
   "cell_type": "code",
   "execution_count": null,
   "metadata": {},
   "outputs": [],
   "source": [
    "y"
   ]
  },
  {
   "cell_type": "code",
   "execution_count": null,
   "metadata": {},
   "outputs": [],
   "source": []
  }
 ],
 "metadata": {
  "colab": {
   "provenance": []
  },
  "kernelspec": {
   "display_name": "Python 3 (ipykernel)",
   "language": "python",
   "name": "python3"
  },
  "language_info": {
   "codemirror_mode": {
    "name": "ipython",
    "version": 3
   },
   "file_extension": ".py",
   "mimetype": "text/x-python",
   "name": "python",
   "nbconvert_exporter": "python",
   "pygments_lexer": "ipython3",
   "version": "3.11.0"
  }
 },
 "nbformat": 4,
 "nbformat_minor": 4
}
